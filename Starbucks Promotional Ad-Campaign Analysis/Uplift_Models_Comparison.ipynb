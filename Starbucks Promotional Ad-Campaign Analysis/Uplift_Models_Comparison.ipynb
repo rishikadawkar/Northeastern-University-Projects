{
 "cells": [
  {
   "cell_type": "markdown",
   "metadata": {
    "colab_type": "text",
    "id": "ATUNBu1gFwcR"
   },
   "source": [
    "An advertising promotion is tested to see if it would bring more customers to purchase a specific product priced at $10. Since it costs the company 0.15 to send out each promotion, it would be best to limit that promotion only to those that are most receptive to the promotion. \n",
    "\n",
    "#### Optimization Strategy\n",
    "\n",
    "Task is to use the training data to understand what patterns in 'Features' to indicate that a promotion should be provided to a user. Specifically,  goal is to maximize the following metrics:\n",
    "\n",
    "* **Incremental Response Rate (IRR)** \n",
    "\n",
    "IRR depicts how many more customers purchased the product with the promotion, as compared to if they didn't receive the promotion. \n",
    "\n",
    "* **Net Incremental Revenue (NIR)**\n",
    "\n",
    "NIR depicts how much is made (or lost) by sending out the promotion. "
   ]
  },
  {
   "cell_type": "code",
   "execution_count": 1,
   "metadata": {
    "colab": {
     "base_uri": "https://localhost:8080/",
     "height": 71
    },
    "colab_type": "code",
    "id": "AkBUw_zCFwcS",
    "outputId": "ca39999b-fcd9-4252-bc5d-84e721105e7f",
    "scrolled": true
   },
   "outputs": [
    {
     "name": "stderr",
     "output_type": "stream",
     "text": [
      "/usr/local/lib/python3.6/dist-packages/sklearn/externals/six.py:31: DeprecationWarning: The module is deprecated in version 0.21 and will be removed in version 0.23 since we've dropped support for Python 2.7. Please rely on the official version of six (https://pypi.org/project/six/).\n",
      "  \"(https://pypi.org/project/six/).\", DeprecationWarning)\n"
     ]
    }
   ],
   "source": [
    "# load in packages\n",
    "from itertools import combinations\n",
    "\n",
    "#from test_results import valid_results, test_results, score\n",
    "import numpy as np\n",
    "import pandas as pd\n",
    "import scipy as sp\n",
    "import sklearn as sk\n",
    "import xgboost as xgb\n",
    "from imblearn.over_sampling import SMOTE\n",
    "from statsmodels.stats.power import NormalIndPower\n",
    "from statsmodels.stats.proportion import proportion_effectsize\n",
    "from google.oauth2 import service_account #For GCP Account connection\n",
    "from google.cloud import bigquery\n",
    "\n",
    "import matplotlib.pyplot as plt\n",
    "import seaborn as sb\n",
    "%matplotlib inline\n",
    "\n",
    "#Setting Up Project ID\n",
    "project_id = \"dsmt-team5-finalproject\"\n",
    "#Setting up the credential file\n",
    "cred = service_account.Credentials.from_service_account_file('dsmt-team5-finalproject-4f1119faadf9.json')\n",
    "#Setting up a BigQuery Client:\n",
    "client = bigquery.Client(project=project_id, credentials=cred)"
   ]
  },
  {
   "cell_type": "code",
   "execution_count": 2,
   "metadata": {
    "colab": {
     "base_uri": "https://localhost:8080/",
     "height": 224
    },
    "colab_type": "code",
    "id": "dBkWg0woFwcW",
    "outputId": "d49406b0-812a-428f-e21d-dc6b8cc56e43"
   },
   "outputs": [
    {
     "data": {
      "text/html": [
       "<div>\n",
       "<style scoped>\n",
       "    .dataframe tbody tr th:only-of-type {\n",
       "        vertical-align: middle;\n",
       "    }\n",
       "\n",
       "    .dataframe tbody tr th {\n",
       "        vertical-align: top;\n",
       "    }\n",
       "\n",
       "    .dataframe thead th {\n",
       "        text-align: right;\n",
       "    }\n",
       "</style>\n",
       "<table border=\"1\" class=\"dataframe\">\n",
       "  <thead>\n",
       "    <tr style=\"text-align: right;\">\n",
       "      <th></th>\n",
       "      <th>day_num</th>\n",
       "      <th>per_id</th>\n",
       "      <th>offer_id</th>\n",
       "      <th>daily_amt_spent</th>\n",
       "      <th>num_trans</th>\n",
       "      <th>amt_spent_per_trans</th>\n",
       "      <th>num_offers</th>\n",
       "      <th>cost</th>\n",
       "      <th>profit</th>\n",
       "      <th>has_profit</th>\n",
       "      <th>target</th>\n",
       "      <th>quadrant</th>\n",
       "      <th>age</th>\n",
       "      <th>became_member_on</th>\n",
       "      <th>gender</th>\n",
       "      <th>income</th>\n",
       "      <th>gender_F</th>\n",
       "      <th>gender_M</th>\n",
       "      <th>gender_O</th>\n",
       "      <th>difficulty</th>\n",
       "      <th>duration</th>\n",
       "      <th>reward</th>\n",
       "      <th>email</th>\n",
       "      <th>mobile</th>\n",
       "      <th>social</th>\n",
       "      <th>web</th>\n",
       "      <th>offer_type_bogo</th>\n",
       "      <th>offer_type_discount</th>\n",
       "      <th>offer_type_informational</th>\n",
       "      <th>offer_id_0</th>\n",
       "      <th>offer_id_1</th>\n",
       "      <th>offer_id_2</th>\n",
       "      <th>offer_id_3</th>\n",
       "      <th>offer_id_4</th>\n",
       "      <th>offer_id_5</th>\n",
       "      <th>offer_id_6</th>\n",
       "      <th>offer_id_7</th>\n",
       "      <th>offer_id_8</th>\n",
       "      <th>offer_id_9</th>\n",
       "      <th>offer_id_10</th>\n",
       "    </tr>\n",
       "  </thead>\n",
       "  <tbody>\n",
       "    <tr>\n",
       "      <th>0</th>\n",
       "      <td>0.0</td>\n",
       "      <td>1.0</td>\n",
       "      <td>3.0</td>\n",
       "      <td>0.0</td>\n",
       "      <td>0.0</td>\n",
       "      <td>0.0</td>\n",
       "      <td>1</td>\n",
       "      <td>0.0</td>\n",
       "      <td>0.0</td>\n",
       "      <td>0.0</td>\n",
       "      <td>0</td>\n",
       "      <td>2</td>\n",
       "      <td>40</td>\n",
       "      <td>20180109</td>\n",
       "      <td>O</td>\n",
       "      <td>57000.0</td>\n",
       "      <td>0</td>\n",
       "      <td>0</td>\n",
       "      <td>1</td>\n",
       "      <td>0</td>\n",
       "      <td>96</td>\n",
       "      <td>0</td>\n",
       "      <td>1</td>\n",
       "      <td>1</td>\n",
       "      <td>0</td>\n",
       "      <td>1</td>\n",
       "      <td>0</td>\n",
       "      <td>0</td>\n",
       "      <td>1</td>\n",
       "      <td>0</td>\n",
       "      <td>0</td>\n",
       "      <td>0</td>\n",
       "      <td>1</td>\n",
       "      <td>0</td>\n",
       "      <td>0</td>\n",
       "      <td>0</td>\n",
       "      <td>0</td>\n",
       "      <td>0</td>\n",
       "      <td>0</td>\n",
       "      <td>0</td>\n",
       "    </tr>\n",
       "    <tr>\n",
       "      <th>1</th>\n",
       "      <td>0.0</td>\n",
       "      <td>1.0</td>\n",
       "      <td>10.0</td>\n",
       "      <td>0.0</td>\n",
       "      <td>0.0</td>\n",
       "      <td>0.0</td>\n",
       "      <td>1</td>\n",
       "      <td>0.0</td>\n",
       "      <td>0.0</td>\n",
       "      <td>0.0</td>\n",
       "      <td>0</td>\n",
       "      <td>3</td>\n",
       "      <td>40</td>\n",
       "      <td>20180109</td>\n",
       "      <td>O</td>\n",
       "      <td>57000.0</td>\n",
       "      <td>0</td>\n",
       "      <td>0</td>\n",
       "      <td>1</td>\n",
       "      <td>0</td>\n",
       "      <td>30</td>\n",
       "      <td>0</td>\n",
       "      <td>0</td>\n",
       "      <td>0</td>\n",
       "      <td>0</td>\n",
       "      <td>0</td>\n",
       "      <td>0</td>\n",
       "      <td>0</td>\n",
       "      <td>0</td>\n",
       "      <td>0</td>\n",
       "      <td>0</td>\n",
       "      <td>0</td>\n",
       "      <td>0</td>\n",
       "      <td>0</td>\n",
       "      <td>0</td>\n",
       "      <td>0</td>\n",
       "      <td>0</td>\n",
       "      <td>0</td>\n",
       "      <td>0</td>\n",
       "      <td>1</td>\n",
       "    </tr>\n",
       "    <tr>\n",
       "      <th>2</th>\n",
       "      <td>0.0</td>\n",
       "      <td>2.0</td>\n",
       "      <td>10.0</td>\n",
       "      <td>0.0</td>\n",
       "      <td>0.0</td>\n",
       "      <td>0.0</td>\n",
       "      <td>1</td>\n",
       "      <td>0.0</td>\n",
       "      <td>0.0</td>\n",
       "      <td>0.0</td>\n",
       "      <td>0</td>\n",
       "      <td>3</td>\n",
       "      <td>59</td>\n",
       "      <td>20160304</td>\n",
       "      <td>F</td>\n",
       "      <td>90000.0</td>\n",
       "      <td>1</td>\n",
       "      <td>0</td>\n",
       "      <td>0</td>\n",
       "      <td>0</td>\n",
       "      <td>30</td>\n",
       "      <td>0</td>\n",
       "      <td>0</td>\n",
       "      <td>0</td>\n",
       "      <td>0</td>\n",
       "      <td>0</td>\n",
       "      <td>0</td>\n",
       "      <td>0</td>\n",
       "      <td>0</td>\n",
       "      <td>0</td>\n",
       "      <td>0</td>\n",
       "      <td>0</td>\n",
       "      <td>0</td>\n",
       "      <td>0</td>\n",
       "      <td>0</td>\n",
       "      <td>0</td>\n",
       "      <td>0</td>\n",
       "      <td>0</td>\n",
       "      <td>0</td>\n",
       "      <td>1</td>\n",
       "    </tr>\n",
       "    <tr>\n",
       "      <th>3</th>\n",
       "      <td>0.0</td>\n",
       "      <td>4.0</td>\n",
       "      <td>10.0</td>\n",
       "      <td>0.0</td>\n",
       "      <td>0.0</td>\n",
       "      <td>0.0</td>\n",
       "      <td>1</td>\n",
       "      <td>0.0</td>\n",
       "      <td>0.0</td>\n",
       "      <td>0.0</td>\n",
       "      <td>0</td>\n",
       "      <td>3</td>\n",
       "      <td>26</td>\n",
       "      <td>20170621</td>\n",
       "      <td>F</td>\n",
       "      <td>73000.0</td>\n",
       "      <td>1</td>\n",
       "      <td>0</td>\n",
       "      <td>0</td>\n",
       "      <td>0</td>\n",
       "      <td>30</td>\n",
       "      <td>0</td>\n",
       "      <td>0</td>\n",
       "      <td>0</td>\n",
       "      <td>0</td>\n",
       "      <td>0</td>\n",
       "      <td>0</td>\n",
       "      <td>0</td>\n",
       "      <td>0</td>\n",
       "      <td>0</td>\n",
       "      <td>0</td>\n",
       "      <td>0</td>\n",
       "      <td>0</td>\n",
       "      <td>0</td>\n",
       "      <td>0</td>\n",
       "      <td>0</td>\n",
       "      <td>0</td>\n",
       "      <td>0</td>\n",
       "      <td>0</td>\n",
       "      <td>1</td>\n",
       "    </tr>\n",
       "    <tr>\n",
       "      <th>4</th>\n",
       "      <td>0.0</td>\n",
       "      <td>5.0</td>\n",
       "      <td>10.0</td>\n",
       "      <td>0.0</td>\n",
       "      <td>0.0</td>\n",
       "      <td>0.0</td>\n",
       "      <td>1</td>\n",
       "      <td>0.0</td>\n",
       "      <td>0.0</td>\n",
       "      <td>0.0</td>\n",
       "      <td>0</td>\n",
       "      <td>3</td>\n",
       "      <td>19</td>\n",
       "      <td>20160809</td>\n",
       "      <td>F</td>\n",
       "      <td>65000.0</td>\n",
       "      <td>1</td>\n",
       "      <td>0</td>\n",
       "      <td>0</td>\n",
       "      <td>0</td>\n",
       "      <td>30</td>\n",
       "      <td>0</td>\n",
       "      <td>0</td>\n",
       "      <td>0</td>\n",
       "      <td>0</td>\n",
       "      <td>0</td>\n",
       "      <td>0</td>\n",
       "      <td>0</td>\n",
       "      <td>0</td>\n",
       "      <td>0</td>\n",
       "      <td>0</td>\n",
       "      <td>0</td>\n",
       "      <td>0</td>\n",
       "      <td>0</td>\n",
       "      <td>0</td>\n",
       "      <td>0</td>\n",
       "      <td>0</td>\n",
       "      <td>0</td>\n",
       "      <td>0</td>\n",
       "      <td>1</td>\n",
       "    </tr>\n",
       "  </tbody>\n",
       "</table>\n",
       "</div>"
      ],
      "text/plain": [
       "   day_num  per_id  offer_id  ...  offer_id_8  offer_id_9  offer_id_10\n",
       "0      0.0     1.0       3.0  ...           0           0            0\n",
       "1      0.0     1.0      10.0  ...           0           0            1\n",
       "2      0.0     2.0      10.0  ...           0           0            1\n",
       "3      0.0     4.0      10.0  ...           0           0            1\n",
       "4      0.0     5.0      10.0  ...           0           0            1\n",
       "\n",
       "[5 rows x 40 columns]"
      ]
     },
     "execution_count": 2,
     "metadata": {
      "tags": []
     },
     "output_type": "execute_result"
    }
   ],
   "source": [
    "# load in the data\n",
    "daily_data_sql = \"\"\"SELECT * FROM `dsmt-team5-finalproject.tacobell.daily_data_rolling`\"\"\"\n",
    "daily_data = client.query(daily_data_sql).to_dataframe()\n",
    "daily_data.head()"
   ]
  },
  {
   "cell_type": "code",
   "execution_count": 3,
   "metadata": {
    "colab": {
     "base_uri": "https://localhost:8080/",
     "height": 714
    },
    "colab_type": "code",
    "id": "nwJIcEkYFwcZ",
    "outputId": "e4411beb-b318-4b7c-f739-5a73d7697e45"
   },
   "outputs": [
    {
     "data": {
      "text/plain": [
       "day_num                     0.0\n",
       "per_id                      0.0\n",
       "offer_id                    0.0\n",
       "daily_amt_spent             0.0\n",
       "num_trans                   0.0\n",
       "amt_spent_per_trans         0.0\n",
       "num_offers                  0.0\n",
       "cost                        0.0\n",
       "profit                      0.0\n",
       "has_profit                  0.0\n",
       "target                      0.0\n",
       "quadrant                    0.0\n",
       "age                         0.0\n",
       "became_member_on            0.0\n",
       "gender                      0.0\n",
       "income                      0.0\n",
       "gender_F                    0.0\n",
       "gender_M                    0.0\n",
       "gender_O                    0.0\n",
       "difficulty                  0.0\n",
       "duration                    0.0\n",
       "reward                      0.0\n",
       "email                       0.0\n",
       "mobile                      0.0\n",
       "social                      0.0\n",
       "web                         0.0\n",
       "offer_type_bogo             0.0\n",
       "offer_type_discount         0.0\n",
       "offer_type_informational    0.0\n",
       "offer_id_0                  0.0\n",
       "offer_id_1                  0.0\n",
       "offer_id_2                  0.0\n",
       "offer_id_3                  0.0\n",
       "offer_id_4                  0.0\n",
       "offer_id_5                  0.0\n",
       "offer_id_6                  0.0\n",
       "offer_id_7                  0.0\n",
       "offer_id_8                  0.0\n",
       "offer_id_9                  0.0\n",
       "offer_id_10                 0.0\n",
       "dtype: float64"
      ]
     },
     "execution_count": 3,
     "metadata": {
      "tags": []
     },
     "output_type": "execute_result"
    }
   ],
   "source": [
    "# check number of missing values per column\n",
    "daily_data.isnull().mean()"
   ]
  },
  {
   "cell_type": "code",
   "execution_count": 0,
   "metadata": {
    "colab": {},
    "colab_type": "code",
    "id": "Bs3vudeDHMTR"
   },
   "outputs": [],
   "source": [
    "def generate_offer_daily_data(offer_name, daily_data, start_day=0,\\\n",
    "                                end_day=29):\n",
    "\n",
    "       # Generate the subset of the original daily data that is relevant to \n",
    "       # the current offer.\n",
    "\n",
    "    for day_num in range(start_day,end_day+1):\n",
    "        # get the current day's data FOR ALL THE DAYS\n",
    "        day_subset = daily_data[daily_data['day_num']==day_num]\n",
    "        day_subset = day_subset[(day_subset[offer_name]==1) |\\\n",
    "                                    (day_subset['offer_id_10']==1)]\n",
    "        \n",
    "        # get individuals who received the offer DURING THE PARTICULAR 1 DAY\n",
    "        day_offer_indiv =\\\n",
    "        day_subset[day_subset[offer_name]==1].per_id.unique()           #unique per_id who received the offer 0\n",
    "        if day_num == start_day:\n",
    "            new_daily_data =\\\n",
    "            day_subset[day_subset['per_id'].isin(day_offer_indiv)]      # new_daily_data = day_subset data that contains the per_id who received the offer on day 0\n",
    "        else:\n",
    "            new_day_data =\\\n",
    "            day_subset[day_subset['per_id'].isin(day_offer_indiv)]\n",
    "            new_daily_data =\\\n",
    "            pd.concat([new_daily_data, new_day_data], axis=0)\n",
    "    new_daily_data.reset_index(inplace=True)\n",
    "    return new_daily_data"
   ]
  },
  {
   "cell_type": "code",
   "execution_count": 0,
   "metadata": {
    "colab": {},
    "colab_type": "code",
    "id": "I6nrZNA8Fwcc"
   },
   "outputs": [],
   "source": [
    "train_data = generate_offer_daily_data('offer_id_0', daily_data)"
   ]
  },
  {
   "cell_type": "code",
   "execution_count": 0,
   "metadata": {
    "colab": {},
    "colab_type": "code",
    "id": "1OzyKn7oFwce"
   },
   "outputs": [],
   "source": [
    "features = ['day_num', 'per_id', 'age', 'became_member_on', 'income', 'gender_F', 'gender_M','gender_O']"
   ]
  },
  {
   "cell_type": "code",
   "execution_count": 7,
   "metadata": {
    "colab": {
     "base_uri": "https://localhost:8080/",
     "height": 68
    },
    "colab_type": "code",
    "id": "grhlhVgfFwci",
    "outputId": "336fce0c-c436-4402-b3c5-02625e9fbf01"
   },
   "outputs": [
    {
     "data": {
      "text/plain": [
       "0    12744\n",
       "1     2830\n",
       "Name: target, dtype: int64"
      ]
     },
     "execution_count": 7,
     "metadata": {
      "tags": []
     },
     "output_type": "execute_result"
    }
   ],
   "source": [
    "train_data['target'].value_counts()"
   ]
  },
  {
   "cell_type": "code",
   "execution_count": 0,
   "metadata": {
    "colab": {},
    "colab_type": "code",
    "id": "qq3Cwq8FFwc5"
   },
   "outputs": [],
   "source": [
    "# testing baseline model, where we send promotions to everyone\n",
    "\n",
    "def promotion_strategy(df):\n",
    "    \n",
    "    test = df\n",
    "    \n",
    "    promotion = []\n",
    "    \n",
    "    num_test_points = test.shape[0]\n",
    "    \n",
    "    for i in range(num_test_points):\n",
    "        promotion.append('Yes')\n",
    "        \n",
    "    promotion = np.array(promotion)\n",
    "    \n",
    "    return promotion"
   ]
  },
  {
   "cell_type": "code",
   "execution_count": 0,
   "metadata": {
    "colab": {},
    "colab_type": "code",
    "id": "Jql0wdICIPeZ"
   },
   "outputs": [],
   "source": [
    "import pandas as pd\n",
    "import numpy as np\n",
    "\n",
    "def score(df, promo_pred_col = 'offer_id',promo_pred_col_2 = 'quadrant'):\n",
    "    n_treat       = df.loc[df[promo_pred_col] != 10 ,:].shape[0]\n",
    "    n_control     = df.loc[df[promo_pred_col] == 10 ,:].shape[0]\n",
    "   \n",
    "    n_treat_purch = df.loc[df[promo_pred_col_2] == 0 ].shape[0]\n",
    "    \n",
    "   \n",
    "    n_ctrl_purch  = df.loc[df[promo_pred_col_2] == 1 ].shape[0]\n",
    "    \n",
    "    irr = n_treat_purch / n_treat - n_ctrl_purch / n_control\n",
    "    nir = 10 * n_treat_purch - 0.15 * n_treat - 10 * n_ctrl_purch\n",
    "    return (irr, nir)\n",
    "  \n",
    "    \n",
    "\n",
    "# added this function to test our irr and nlr on the validation set\n",
    "def valid_results(promotion_strategy, valid_data):\n",
    "    df = valid_data[['day_num', 'per_id','age','became_member_on', 'income', 'gender_F', 'gender_M','gender_O']]\n",
    "                    \n",
    "    promos = promotion_strategy(df)\n",
    "    score_df = valid_data.iloc[np.where(promos == 'Yes')]    \n",
    "    irr, nir = score(score_df)\n",
    "   \n",
    "    \n",
    "    print('Irr with this strategy is {:0.4f}.'.format(irr))\n",
    "    print()\n",
    "   \n",
    "    print('Nir with this strategy is {:0.2f}.'.format(nir))\n",
    "    print()\n",
    "    \n",
    "    return irr, nir\n",
    "   \n",
    "def test_results(promotion_strategy):\n",
    "    test_data_sql = \"\"\"SELECT * FROM `dsmt-team5-finalproject.tacobell.rr_test_case`\"\"\"\n",
    "    test_data = client.query(test_data_sql).to_dataframe()\n",
    "    df = test_data[['day_num', 'per_id','age','became_member_on', 'income', 'gender_F', 'gender_M','gender_O']]\n",
    "    promos = promotion_strategy(df)\n",
    "    score_df = test_data.iloc[np.where(promos == 'Yes')]    \n",
    "    irr, nir = score(score_df)\n",
    "    \n",
    "    print('Irr with this strategy is {:0.4f}.'.format(irr))\n",
    "    print()\n",
    "    print('Nir with this strategy is {:0.2f}.'.format(nir))\n",
    "    \n",
    "    \n",
    "    return irr, nir"
   ]
  },
  {
   "cell_type": "code",
   "execution_count": 0,
   "metadata": {
    "colab": {},
    "colab_type": "code",
    "id": "hNgTZQrt_Dj8"
   },
   "outputs": [],
   "source": [
    "# This will test the baseline strategy\n",
    "\n",
    "#test_results(promotion_strategy)"
   ]
  },
  {
   "cell_type": "markdown",
   "metadata": {
    "colab_type": "text",
    "id": "azRAazhuFwdT"
   },
   "source": [
    "If we were to send everyone a promotion, this will be the baseline model. Hence, sending everyone a promotion is going to lose the company a lot of money."
   ]
  },
  {
   "cell_type": "code",
   "execution_count": 0,
   "metadata": {
    "colab": {},
    "colab_type": "code",
    "id": "r1eVLh8u_C5t"
   },
   "outputs": [],
   "source": []
  },
  {
   "cell_type": "markdown",
   "metadata": {
    "colab_type": "text",
    "id": "ts1s6Ht1FwdT"
   },
   "source": [
    "## Model 1: Predict only for individuals who received promotions and purchased\n",
    "\n",
    "In this approach, we will assign labels of 1 to those who received the promotions and made purchases, and labels of 0 to everyone else. In other words, we want the model to find the individuals who are likely to purchase only after they received a promotion. "
   ]
  },
  {
   "cell_type": "code",
   "execution_count": 13,
   "metadata": {
    "colab": {
     "base_uri": "https://localhost:8080/",
     "height": 224
    },
    "colab_type": "code",
    "id": "bdGQ3o4xFwdZ",
    "outputId": "7b335271-bee3-432d-9f20-64e3d989f437"
   },
   "outputs": [
    {
     "data": {
      "text/html": [
       "<div>\n",
       "<style scoped>\n",
       "    .dataframe tbody tr th:only-of-type {\n",
       "        vertical-align: middle;\n",
       "    }\n",
       "\n",
       "    .dataframe tbody tr th {\n",
       "        vertical-align: top;\n",
       "    }\n",
       "\n",
       "    .dataframe thead th {\n",
       "        text-align: right;\n",
       "    }\n",
       "</style>\n",
       "<table border=\"1\" class=\"dataframe\">\n",
       "  <thead>\n",
       "    <tr style=\"text-align: right;\">\n",
       "      <th></th>\n",
       "      <th>index</th>\n",
       "      <th>day_num</th>\n",
       "      <th>per_id</th>\n",
       "      <th>offer_id</th>\n",
       "      <th>daily_amt_spent</th>\n",
       "      <th>num_trans</th>\n",
       "      <th>amt_spent_per_trans</th>\n",
       "      <th>num_offers</th>\n",
       "      <th>cost</th>\n",
       "      <th>profit</th>\n",
       "      <th>has_profit</th>\n",
       "      <th>target</th>\n",
       "      <th>quadrant</th>\n",
       "      <th>age</th>\n",
       "      <th>became_member_on</th>\n",
       "      <th>gender</th>\n",
       "      <th>income</th>\n",
       "      <th>gender_F</th>\n",
       "      <th>gender_M</th>\n",
       "      <th>gender_O</th>\n",
       "      <th>difficulty</th>\n",
       "      <th>duration</th>\n",
       "      <th>reward</th>\n",
       "      <th>email</th>\n",
       "      <th>mobile</th>\n",
       "      <th>social</th>\n",
       "      <th>web</th>\n",
       "      <th>offer_type_bogo</th>\n",
       "      <th>offer_type_discount</th>\n",
       "      <th>offer_type_informational</th>\n",
       "      <th>offer_id_0</th>\n",
       "      <th>offer_id_1</th>\n",
       "      <th>offer_id_2</th>\n",
       "      <th>offer_id_3</th>\n",
       "      <th>offer_id_4</th>\n",
       "      <th>offer_id_5</th>\n",
       "      <th>offer_id_6</th>\n",
       "      <th>offer_id_7</th>\n",
       "      <th>offer_id_8</th>\n",
       "      <th>offer_id_9</th>\n",
       "      <th>offer_id_10</th>\n",
       "    </tr>\n",
       "  </thead>\n",
       "  <tbody>\n",
       "    <tr>\n",
       "      <th>0</th>\n",
       "      <td>112</td>\n",
       "      <td>0.0</td>\n",
       "      <td>93.0</td>\n",
       "      <td>0.0</td>\n",
       "      <td>0.0</td>\n",
       "      <td>0.0</td>\n",
       "      <td>0.0</td>\n",
       "      <td>1</td>\n",
       "      <td>0.0</td>\n",
       "      <td>0.0</td>\n",
       "      <td>0.0</td>\n",
       "      <td>0</td>\n",
       "      <td>2</td>\n",
       "      <td>49</td>\n",
       "      <td>20170126</td>\n",
       "      <td>M</td>\n",
       "      <td>73000.0</td>\n",
       "      <td>0</td>\n",
       "      <td>1</td>\n",
       "      <td>0</td>\n",
       "      <td>20</td>\n",
       "      <td>240</td>\n",
       "      <td>5</td>\n",
       "      <td>1</td>\n",
       "      <td>0</td>\n",
       "      <td>0</td>\n",
       "      <td>1</td>\n",
       "      <td>0</td>\n",
       "      <td>1</td>\n",
       "      <td>0</td>\n",
       "      <td>1</td>\n",
       "      <td>0</td>\n",
       "      <td>0</td>\n",
       "      <td>0</td>\n",
       "      <td>0</td>\n",
       "      <td>0</td>\n",
       "      <td>0</td>\n",
       "      <td>0</td>\n",
       "      <td>0</td>\n",
       "      <td>0</td>\n",
       "      <td>0</td>\n",
       "    </tr>\n",
       "    <tr>\n",
       "      <th>1</th>\n",
       "      <td>113</td>\n",
       "      <td>0.0</td>\n",
       "      <td>93.0</td>\n",
       "      <td>10.0</td>\n",
       "      <td>0.0</td>\n",
       "      <td>0.0</td>\n",
       "      <td>0.0</td>\n",
       "      <td>1</td>\n",
       "      <td>0.0</td>\n",
       "      <td>0.0</td>\n",
       "      <td>0.0</td>\n",
       "      <td>0</td>\n",
       "      <td>3</td>\n",
       "      <td>49</td>\n",
       "      <td>20170126</td>\n",
       "      <td>M</td>\n",
       "      <td>73000.0</td>\n",
       "      <td>0</td>\n",
       "      <td>1</td>\n",
       "      <td>0</td>\n",
       "      <td>0</td>\n",
       "      <td>30</td>\n",
       "      <td>0</td>\n",
       "      <td>0</td>\n",
       "      <td>0</td>\n",
       "      <td>0</td>\n",
       "      <td>0</td>\n",
       "      <td>0</td>\n",
       "      <td>0</td>\n",
       "      <td>0</td>\n",
       "      <td>0</td>\n",
       "      <td>0</td>\n",
       "      <td>0</td>\n",
       "      <td>0</td>\n",
       "      <td>0</td>\n",
       "      <td>0</td>\n",
       "      <td>0</td>\n",
       "      <td>0</td>\n",
       "      <td>0</td>\n",
       "      <td>0</td>\n",
       "      <td>1</td>\n",
       "    </tr>\n",
       "    <tr>\n",
       "      <th>2</th>\n",
       "      <td>114</td>\n",
       "      <td>0.0</td>\n",
       "      <td>94.0</td>\n",
       "      <td>0.0</td>\n",
       "      <td>0.0</td>\n",
       "      <td>0.0</td>\n",
       "      <td>0.0</td>\n",
       "      <td>1</td>\n",
       "      <td>0.0</td>\n",
       "      <td>0.0</td>\n",
       "      <td>0.0</td>\n",
       "      <td>0</td>\n",
       "      <td>2</td>\n",
       "      <td>44</td>\n",
       "      <td>20180312</td>\n",
       "      <td>F</td>\n",
       "      <td>76000.0</td>\n",
       "      <td>1</td>\n",
       "      <td>0</td>\n",
       "      <td>0</td>\n",
       "      <td>20</td>\n",
       "      <td>240</td>\n",
       "      <td>5</td>\n",
       "      <td>1</td>\n",
       "      <td>0</td>\n",
       "      <td>0</td>\n",
       "      <td>1</td>\n",
       "      <td>0</td>\n",
       "      <td>1</td>\n",
       "      <td>0</td>\n",
       "      <td>1</td>\n",
       "      <td>0</td>\n",
       "      <td>0</td>\n",
       "      <td>0</td>\n",
       "      <td>0</td>\n",
       "      <td>0</td>\n",
       "      <td>0</td>\n",
       "      <td>0</td>\n",
       "      <td>0</td>\n",
       "      <td>0</td>\n",
       "      <td>0</td>\n",
       "    </tr>\n",
       "    <tr>\n",
       "      <th>3</th>\n",
       "      <td>115</td>\n",
       "      <td>0.0</td>\n",
       "      <td>94.0</td>\n",
       "      <td>10.0</td>\n",
       "      <td>0.0</td>\n",
       "      <td>0.0</td>\n",
       "      <td>0.0</td>\n",
       "      <td>1</td>\n",
       "      <td>0.0</td>\n",
       "      <td>0.0</td>\n",
       "      <td>0.0</td>\n",
       "      <td>0</td>\n",
       "      <td>3</td>\n",
       "      <td>44</td>\n",
       "      <td>20180312</td>\n",
       "      <td>F</td>\n",
       "      <td>76000.0</td>\n",
       "      <td>1</td>\n",
       "      <td>0</td>\n",
       "      <td>0</td>\n",
       "      <td>0</td>\n",
       "      <td>30</td>\n",
       "      <td>0</td>\n",
       "      <td>0</td>\n",
       "      <td>0</td>\n",
       "      <td>0</td>\n",
       "      <td>0</td>\n",
       "      <td>0</td>\n",
       "      <td>0</td>\n",
       "      <td>0</td>\n",
       "      <td>0</td>\n",
       "      <td>0</td>\n",
       "      <td>0</td>\n",
       "      <td>0</td>\n",
       "      <td>0</td>\n",
       "      <td>0</td>\n",
       "      <td>0</td>\n",
       "      <td>0</td>\n",
       "      <td>0</td>\n",
       "      <td>0</td>\n",
       "      <td>1</td>\n",
       "    </tr>\n",
       "    <tr>\n",
       "      <th>4</th>\n",
       "      <td>166</td>\n",
       "      <td>0.0</td>\n",
       "      <td>134.0</td>\n",
       "      <td>0.0</td>\n",
       "      <td>0.0</td>\n",
       "      <td>0.0</td>\n",
       "      <td>0.0</td>\n",
       "      <td>1</td>\n",
       "      <td>0.0</td>\n",
       "      <td>0.0</td>\n",
       "      <td>0.0</td>\n",
       "      <td>0</td>\n",
       "      <td>2</td>\n",
       "      <td>62</td>\n",
       "      <td>20180629</td>\n",
       "      <td>F</td>\n",
       "      <td>40000.0</td>\n",
       "      <td>1</td>\n",
       "      <td>0</td>\n",
       "      <td>0</td>\n",
       "      <td>20</td>\n",
       "      <td>240</td>\n",
       "      <td>5</td>\n",
       "      <td>1</td>\n",
       "      <td>0</td>\n",
       "      <td>0</td>\n",
       "      <td>1</td>\n",
       "      <td>0</td>\n",
       "      <td>1</td>\n",
       "      <td>0</td>\n",
       "      <td>1</td>\n",
       "      <td>0</td>\n",
       "      <td>0</td>\n",
       "      <td>0</td>\n",
       "      <td>0</td>\n",
       "      <td>0</td>\n",
       "      <td>0</td>\n",
       "      <td>0</td>\n",
       "      <td>0</td>\n",
       "      <td>0</td>\n",
       "      <td>0</td>\n",
       "    </tr>\n",
       "  </tbody>\n",
       "</table>\n",
       "</div>"
      ],
      "text/plain": [
       "   index  day_num  per_id  ...  offer_id_8  offer_id_9  offer_id_10\n",
       "0    112      0.0    93.0  ...           0           0            0\n",
       "1    113      0.0    93.0  ...           0           0            1\n",
       "2    114      0.0    94.0  ...           0           0            0\n",
       "3    115      0.0    94.0  ...           0           0            1\n",
       "4    166      0.0   134.0  ...           0           0            0\n",
       "\n",
       "[5 rows x 41 columns]"
      ]
     },
     "execution_count": 13,
     "metadata": {
      "tags": []
     },
     "output_type": "execute_result"
    }
   ],
   "source": [
    "train_data.head()"
   ]
  },
  {
   "cell_type": "code",
   "execution_count": 0,
   "metadata": {
    "colab": {},
    "colab_type": "code",
    "id": "ZCe9PwbnFwdc"
   },
   "outputs": [],
   "source": [
    "# split data into train and valid\n",
    "train, valid = sk.model_selection.train_test_split(train_data, test_size=0.2,random_state=42)"
   ]
  },
  {
   "cell_type": "code",
   "execution_count": 15,
   "metadata": {
    "colab": {
     "base_uri": "https://localhost:8080/",
     "height": 102
    },
    "colab_type": "code",
    "id": "C8djPWW7KURh",
    "outputId": "c2bfd220-97b0-46cb-ee04-fdad70cab4f2"
   },
   "outputs": [
    {
     "name": "stdout",
     "output_type": "stream",
     "text": [
      "Irr with this strategy is 0.2300.\n",
      "\n",
      "Nir with this strategy is 3249.60.\n",
      "\n"
     ]
    },
    {
     "data": {
      "text/plain": [
       "(0.230019741529449, 3249.6000000000004)"
      ]
     },
     "execution_count": 15,
     "metadata": {
      "tags": []
     },
     "output_type": "execute_result"
    }
   ],
   "source": [
    "# This will test your results, for baseline strategy\n",
    "# test irr and nlr on our validation set\n",
    "valid_results(promotion_strategy, valid)"
   ]
  },
  {
   "cell_type": "code",
   "execution_count": 0,
   "metadata": {
    "colab": {},
    "colab_type": "code",
    "id": "5R8aCUYFFwde"
   },
   "outputs": [],
   "source": [
    "# generate features and labels\n",
    "Y_train = train['target']\n",
    "X_train = train[features]\n",
    "\n",
    "Y_valid = valid['target']\n",
    "X_valid = valid[features]"
   ]
  },
  {
   "cell_type": "code",
   "execution_count": 17,
   "metadata": {
    "colab": {
     "base_uri": "https://localhost:8080/",
     "height": 68
    },
    "colab_type": "code",
    "id": "Xz1kbS3lFwdr",
    "outputId": "a368870d-6dc0-46fc-ac62-dcd8164e5ac2"
   },
   "outputs": [
    {
     "data": {
      "text/plain": [
       "0    10172\n",
       "1     2287\n",
       "Name: target, dtype: int64"
      ]
     },
     "execution_count": 17,
     "metadata": {
      "tags": []
     },
     "output_type": "execute_result"
    }
   ],
   "source": [
    "Y_train.value_counts()"
   ]
  },
  {
   "cell_type": "code",
   "execution_count": 0,
   "metadata": {
    "colab": {},
    "colab_type": "code",
    "id": "uUMbQgzsFwdu"
   },
   "outputs": [],
   "source": [
    "# up sample only the train dataset with SMOTE\n",
    "sm = SMOTE(random_state=42, ratio = 1.0)\n",
    "X_train_upsamp, Y_train_upsamp = sm.fit_sample(X_train, Y_train)\n",
    "    \n",
    "X_train_upsamp = pd.DataFrame(X_train_upsamp, columns=features)\n",
    "\n",
    "Y_train_upsamp = pd.Series(Y_train_upsamp)"
   ]
  },
  {
   "cell_type": "code",
   "execution_count": 19,
   "metadata": {
    "colab": {
     "base_uri": "https://localhost:8080/",
     "height": 1000
    },
    "colab_type": "code",
    "id": "9j8oftrqFwdw",
    "outputId": "70be29a2-8aed-44ea-8662-3a2fdde32008"
   },
   "outputs": [
    {
     "name": "stdout",
     "output_type": "stream",
     "text": [
      "[0]\tvalidation_0-auc:0.843711\tvalidation_1-auc:0.719193\n",
      "Multiple eval metrics have been passed: 'validation_1-auc' will be used for early stopping.\n",
      "\n",
      "Will train until validation_1-auc hasn't improved in 30 rounds.\n",
      "[1]\tvalidation_0-auc:0.844779\tvalidation_1-auc:0.730671\n",
      "[2]\tvalidation_0-auc:0.932221\tvalidation_1-auc:0.791583\n",
      "[3]\tvalidation_0-auc:0.925724\tvalidation_1-auc:0.789821\n",
      "[4]\tvalidation_0-auc:0.93245\tvalidation_1-auc:0.792745\n",
      "[5]\tvalidation_0-auc:0.939509\tvalidation_1-auc:0.793682\n",
      "[6]\tvalidation_0-auc:0.937903\tvalidation_1-auc:0.791756\n",
      "[7]\tvalidation_0-auc:0.943157\tvalidation_1-auc:0.794192\n",
      "[8]\tvalidation_0-auc:0.941479\tvalidation_1-auc:0.792058\n",
      "[9]\tvalidation_0-auc:0.941395\tvalidation_1-auc:0.792035\n",
      "[10]\tvalidation_0-auc:0.945044\tvalidation_1-auc:0.793527\n",
      "[11]\tvalidation_0-auc:0.948979\tvalidation_1-auc:0.794559\n",
      "[12]\tvalidation_0-auc:0.947957\tvalidation_1-auc:0.793674\n",
      "[13]\tvalidation_0-auc:0.950512\tvalidation_1-auc:0.794982\n",
      "[14]\tvalidation_0-auc:0.948909\tvalidation_1-auc:0.79382\n",
      "[15]\tvalidation_0-auc:0.950654\tvalidation_1-auc:0.794714\n",
      "[16]\tvalidation_0-auc:0.951331\tvalidation_1-auc:0.794298\n",
      "[17]\tvalidation_0-auc:0.953133\tvalidation_1-auc:0.796396\n",
      "[18]\tvalidation_0-auc:0.953195\tvalidation_1-auc:0.795369\n",
      "[19]\tvalidation_0-auc:0.954275\tvalidation_1-auc:0.795722\n",
      "[20]\tvalidation_0-auc:0.954282\tvalidation_1-auc:0.795376\n",
      "[21]\tvalidation_0-auc:0.955531\tvalidation_1-auc:0.795232\n",
      "[22]\tvalidation_0-auc:0.956686\tvalidation_1-auc:0.797047\n",
      "[23]\tvalidation_0-auc:0.957297\tvalidation_1-auc:0.797456\n",
      "[24]\tvalidation_0-auc:0.958269\tvalidation_1-auc:0.797157\n",
      "[25]\tvalidation_0-auc:0.959417\tvalidation_1-auc:0.797894\n",
      "[26]\tvalidation_0-auc:0.960162\tvalidation_1-auc:0.798208\n",
      "[27]\tvalidation_0-auc:0.960772\tvalidation_1-auc:0.799129\n",
      "[28]\tvalidation_0-auc:0.961162\tvalidation_1-auc:0.800094\n",
      "[29]\tvalidation_0-auc:0.962114\tvalidation_1-auc:0.801183\n",
      "[30]\tvalidation_0-auc:0.962199\tvalidation_1-auc:0.799512\n",
      "[31]\tvalidation_0-auc:0.962738\tvalidation_1-auc:0.800818\n",
      "[32]\tvalidation_0-auc:0.962937\tvalidation_1-auc:0.800167\n",
      "[33]\tvalidation_0-auc:0.963328\tvalidation_1-auc:0.800577\n",
      "[34]\tvalidation_0-auc:0.963556\tvalidation_1-auc:0.799513\n",
      "[35]\tvalidation_0-auc:0.963869\tvalidation_1-auc:0.799799\n",
      "[36]\tvalidation_0-auc:0.963919\tvalidation_1-auc:0.799403\n",
      "[37]\tvalidation_0-auc:0.964302\tvalidation_1-auc:0.800139\n",
      "[38]\tvalidation_0-auc:0.964376\tvalidation_1-auc:0.800621\n",
      "[39]\tvalidation_0-auc:0.965005\tvalidation_1-auc:0.800182\n",
      "[40]\tvalidation_0-auc:0.965504\tvalidation_1-auc:0.800089\n",
      "[41]\tvalidation_0-auc:0.965848\tvalidation_1-auc:0.800492\n",
      "[42]\tvalidation_0-auc:0.966086\tvalidation_1-auc:0.799788\n",
      "[43]\tvalidation_0-auc:0.966048\tvalidation_1-auc:0.799737\n",
      "[44]\tvalidation_0-auc:0.966427\tvalidation_1-auc:0.798909\n",
      "[45]\tvalidation_0-auc:0.966696\tvalidation_1-auc:0.797697\n",
      "[46]\tvalidation_0-auc:0.966779\tvalidation_1-auc:0.798342\n",
      "[47]\tvalidation_0-auc:0.966913\tvalidation_1-auc:0.798348\n",
      "[48]\tvalidation_0-auc:0.966929\tvalidation_1-auc:0.798968\n",
      "[49]\tvalidation_0-auc:0.967028\tvalidation_1-auc:0.798458\n",
      "[50]\tvalidation_0-auc:0.967297\tvalidation_1-auc:0.798772\n",
      "[51]\tvalidation_0-auc:0.967331\tvalidation_1-auc:0.798753\n",
      "[52]\tvalidation_0-auc:0.967561\tvalidation_1-auc:0.797991\n",
      "[53]\tvalidation_0-auc:0.967584\tvalidation_1-auc:0.797931\n",
      "[54]\tvalidation_0-auc:0.967731\tvalidation_1-auc:0.79788\n",
      "[55]\tvalidation_0-auc:0.967947\tvalidation_1-auc:0.797957\n",
      "[56]\tvalidation_0-auc:0.96796\tvalidation_1-auc:0.797769\n",
      "[57]\tvalidation_0-auc:0.968027\tvalidation_1-auc:0.797689\n",
      "[58]\tvalidation_0-auc:0.968215\tvalidation_1-auc:0.796854\n",
      "[59]\tvalidation_0-auc:0.968422\tvalidation_1-auc:0.79631\n",
      "Stopping. Best iteration:\n",
      "[29]\tvalidation_0-auc:0.962114\tvalidation_1-auc:0.801183\n",
      "\n"
     ]
    },
    {
     "data": {
      "text/plain": [
       "XGBClassifier(base_score=0.5, booster='gbtree', colsample_bylevel=1,\n",
       "              colsample_bynode=1, colsample_bytree=1, gamma=0.1,\n",
       "              learning_rate=0.1, max_delta_step=0, max_depth=7,\n",
       "              min_child_weight=5, missing=None, n_estimators=100, n_jobs=1,\n",
       "              nthread=None, objective='binary:logistic', random_state=0,\n",
       "              reg_alpha=0, reg_lambda=1, scale_pos_weight=1, seed=42,\n",
       "              silent=True, subsample=1, verbosity=1)"
      ]
     },
     "execution_count": 19,
     "metadata": {
      "tags": []
     },
     "output_type": "execute_result"
    }
   ],
   "source": [
    "#Train an xgboost model\n",
    "eval_set = [(X_train_upsamp, Y_train_upsamp), (X_valid, Y_valid)]\n",
    "model = xgb.XGBClassifier(learning_rate = 0.1,\\\n",
    "                          max_depth = 7,\\\n",
    "                          min_child_weight = 5,\\\n",
    "                          objective = 'binary:logistic',\\\n",
    "                          seed = 42,\\\n",
    "                          gamma = 0.1,\\\n",
    "                          silent = True)\n",
    "model.fit(X_train_upsamp, Y_train_upsamp, eval_set=eval_set,\\\n",
    "          eval_metric=\"auc\", verbose=True, early_stopping_rounds=30)\n",
    "\n",
    "#import pickle\n",
    "# save model to file\n",
    "#pickle.dump(model, open(\"uplift.pickle.dat\", \"wb\"))"
   ]
  },
  {
   "cell_type": "code",
   "execution_count": 0,
   "metadata": {
    "colab": {},
    "colab_type": "code",
    "id": "F2FXvRWLuEES"
   },
   "outputs": [],
   "source": [
    "# load model from file\n",
    "#loaded_model = pickle.load(open(\"uplift.pickle.dat\", \"rb\"))"
   ]
  },
  {
   "cell_type": "code",
   "execution_count": 21,
   "metadata": {
    "colab": {
     "base_uri": "https://localhost:8080/",
     "height": 1000
    },
    "colab_type": "code",
    "id": "BDO7cX8NFwdz",
    "outputId": "51ed4ebc-8feb-49a6-edae-26f79994d000"
   },
   "outputs": [
    {
     "data": {
      "image/png": "[encoded data removed]",
      "text/plain": [
       "<Figure size 720x1296 with 1 Axes>"
      ]
     },
     "metadata": {
      "tags": []
     },
     "output_type": "display_data"
    }
   ],
   "source": [
    "# check which features are important\n",
    "\n",
    "from xgboost import plot_importance\n",
    "from matplotlib import pyplot\n",
    "\n",
    "fig, ax = pyplot.subplots(figsize=(10, 18));\n",
    "xgb.plot_importance(model, ax=ax);"
   ]
  },
  {
   "cell_type": "code",
   "execution_count": 22,
   "metadata": {
    "colab": {
     "base_uri": "https://localhost:8080/",
     "height": 51
    },
    "colab_type": "code",
    "id": "vixC_D53Fwd1",
    "outputId": "84336414-d910-4724-e3e8-d02695fc6eda"
   },
   "outputs": [
    {
     "data": {
      "text/plain": [
       "array([[2147,  425],\n",
       "       [ 156,  387]])"
      ]
     },
     "execution_count": 22,
     "metadata": {
      "tags": []
     },
     "output_type": "execute_result"
    }
   ],
   "source": [
    "# confusion matrix\n",
    "valid_pred = model.predict(X_valid, ntree_limit=model.best_ntree_limit)\n",
    "cm = sk.metrics.confusion_matrix\n",
    "cm(Y_valid, valid_pred)"
   ]
  },
  {
   "cell_type": "code",
   "execution_count": 0,
   "metadata": {
    "colab": {},
    "colab_type": "code",
    "id": "QIJjxrryFwd-"
   },
   "outputs": [],
   "source": [
    "def promotion_strategy(df):\n",
    "\n",
    "    test = df\n",
    "    \n",
    "    preds = model.predict(test, ntree_limit=model.best_ntree_limit)\n",
    "\n",
    "    promotion = []\n",
    "    for pred in preds:\n",
    "        if pred == 1:\n",
    "            promotion.append('Yes')\n",
    "        else:\n",
    "            promotion.append('No')\n",
    "    promotion = np.array(promotion)\n",
    "    return promotion"
   ]
  },
  {
   "cell_type": "code",
   "execution_count": 24,
   "metadata": {
    "colab": {
     "base_uri": "https://localhost:8080/",
     "height": 102
    },
    "colab_type": "code",
    "id": "PKsygvWOFweB",
    "outputId": "84f88f11-df22-469a-d2c8-aa6b56d08ab0"
   },
   "outputs": [
    {
     "name": "stdout",
     "output_type": "stream",
     "text": [
      "Irr with this strategy is 0.9200.\n",
      "\n",
      "Nir with this strategy is 3471.95.\n",
      "\n"
     ]
    },
    {
     "data": {
      "text/plain": [
       "(0.92, 3471.95)"
      ]
     },
     "execution_count": 24,
     "metadata": {
      "tags": []
     },
     "output_type": "execute_result"
    }
   ],
   "source": [
    "# test irr and nlr on our validation set\n",
    "valid_results(promotion_strategy, valid)"
   ]
  },
  {
   "cell_type": "code",
   "execution_count": 0,
   "metadata": {
    "colab": {},
    "colab_type": "code",
    "id": "WRIWzKquC8Cp"
   },
   "outputs": [],
   "source": [
    "# This will test results, and provide back how well your promotion_strategy will work in practice\n",
    "\n",
    "#test_results(promotion_strategy)"
   ]
  },
  {
   "cell_type": "markdown",
   "metadata": {
    "colab_type": "text",
    "id": "hrERVVhBFweE"
   },
   "source": [
    "## Model 2: Using Two Models\n",
    "\n",
    "In this approach, we will train two models. \n",
    "One model will be trained on the treatment group (those who received the promotion) and we will refer to this model as the treatment model. \n",
    "Another model will be trained on the control group (those who did not received the promotion), and we will refer to this as the control model. \n",
    "The target of both models will be whether the individual made the purchase or not. \n",
    "The treatment model will predict the probability that individual will make a purchase if he or she received the promotion, while the control model will predict the probability that individual will make a purchase if he or she did not receive the promotion. \n",
    "Ideally the difference in the probabilities, which we will call the lift will tell us the probability that sending a promotion to an individual will increase his or her willingness to make a purhcase vs not sending a promotion. We can then send promotions to individuals with lift values higher than a pre-defined cutoff percentile. For example, we can send promotions to individuals in the top 3 deciles."
   ]
  },
  {
   "cell_type": "code",
   "execution_count": 0,
   "metadata": {
    "colab": {},
    "colab_type": "code",
    "id": "OObVE_0bFweH"
   },
   "outputs": [],
   "source": [
    "# split data into train and valid\n",
    "train, valid = sk.model_selection.train_test_split(train_data, test_size=0.2,random_state=42)"
   ]
  },
  {
   "cell_type": "code",
   "execution_count": 0,
   "metadata": {
    "colab": {},
    "colab_type": "code",
    "id": "4TthvhSuFweI"
   },
   "outputs": [],
   "source": [
    "features = ['day_num', 'per_id', 'age', 'became_member_on', 'income', 'gender_F', 'gender_M','gender_O']\n",
    "\n",
    "# Generate validation data one for control group, another for treatment group\n",
    "valid_control = valid[valid['offer_id']==10]\n",
    "Y_valid_control = valid_control['has_profit']\n",
    "X_valid_control = valid_control[features]\n",
    "\n",
    "valid_exper = valid[valid['offer_id']!=10]\n",
    "Y_valid_exper = valid_exper['has_profit']\n",
    "X_valid_exper = valid_exper[features]"
   ]
  },
  {
   "cell_type": "code",
   "execution_count": 0,
   "metadata": {
    "colab": {},
    "colab_type": "code",
    "id": "WOVKgpHjFweK"
   },
   "outputs": [],
   "source": [
    "# generate training data\n",
    "train_control = train[train['offer_id']==10]\n",
    "Y_train_control = train_control['has_profit']\n",
    "X_train_control = train_control[features]\n",
    "\n",
    "train_exper = train[train['offer_id']!=10]\n",
    "Y_train_exper = train_exper['has_profit']\n",
    "X_train_exper = train_exper[features]"
   ]
  },
  {
   "cell_type": "code",
   "execution_count": 0,
   "metadata": {
    "colab": {},
    "colab_type": "code",
    "id": "e2gG8OQ6FweN"
   },
   "outputs": [],
   "source": [
    "# up-sample training data with SMOTE\n",
    "sm = SMOTE(random_state=42, ratio = 1.0)\n",
    "\n",
    "# up-sample control group\n",
    "X_train_control_upsamp, Y_train_control_upsamp = sm.fit_sample(X_train_control, Y_train_control)\n",
    "X_train_control_upsamp = pd.DataFrame(X_train_control_upsamp, columns=features)\n",
    "Y_train_control_upsamp = pd.Series(Y_train_control_upsamp)\n",
    "\n",
    "# up-sample treatment group\n",
    "X_train_exper_upsamp, Y_train_exper_upsamp = sm.fit_sample(X_train_exper, Y_train_exper)    \n",
    "X_train_exper_upsamp = pd.DataFrame(X_train_exper_upsamp, columns=features)\n",
    "Y_train_exper_upsamp = pd.Series(Y_train_exper_upsamp)"
   ]
  },
  {
   "cell_type": "code",
   "execution_count": 32,
   "metadata": {
    "colab": {
     "base_uri": "https://localhost:8080/",
     "height": 833
    },
    "colab_type": "code",
    "id": "_B9SKvUcFweP",
    "outputId": "435652c8-55e3-4d7e-e719-38cb61bcc2d6"
   },
   "outputs": [
    {
     "name": "stdout",
     "output_type": "stream",
     "text": [
      "[0]\tvalidation_0-auc:0.861602\tvalidation_1-auc:0.534095\n",
      "Multiple eval metrics have been passed: 'validation_1-auc' will be used for early stopping.\n",
      "\n",
      "Will train until validation_1-auc hasn't improved in 30 rounds.\n",
      "[1]\tvalidation_0-auc:0.885753\tvalidation_1-auc:0.534178\n",
      "[2]\tvalidation_0-auc:0.887618\tvalidation_1-auc:0.539351\n",
      "[3]\tvalidation_0-auc:0.89351\tvalidation_1-auc:0.543364\n",
      "[4]\tvalidation_0-auc:0.89371\tvalidation_1-auc:0.545431\n",
      "[5]\tvalidation_0-auc:0.904315\tvalidation_1-auc:0.539903\n",
      "[6]\tvalidation_0-auc:0.908736\tvalidation_1-auc:0.542078\n",
      "[7]\tvalidation_0-auc:0.911288\tvalidation_1-auc:0.539438\n",
      "[8]\tvalidation_0-auc:0.915773\tvalidation_1-auc:0.537326\n",
      "[9]\tvalidation_0-auc:0.916858\tvalidation_1-auc:0.536157\n",
      "[10]\tvalidation_0-auc:0.918738\tvalidation_1-auc:0.533743\n",
      "[11]\tvalidation_0-auc:0.924546\tvalidation_1-auc:0.532779\n",
      "[12]\tvalidation_0-auc:0.927831\tvalidation_1-auc:0.532713\n",
      "[13]\tvalidation_0-auc:0.928186\tvalidation_1-auc:0.53589\n",
      "[14]\tvalidation_0-auc:0.930783\tvalidation_1-auc:0.536387\n",
      "[15]\tvalidation_0-auc:0.932864\tvalidation_1-auc:0.53426\n",
      "[16]\tvalidation_0-auc:0.934756\tvalidation_1-auc:0.537124\n",
      "[17]\tvalidation_0-auc:0.936247\tvalidation_1-auc:0.535857\n",
      "[18]\tvalidation_0-auc:0.937478\tvalidation_1-auc:0.534556\n",
      "[19]\tvalidation_0-auc:0.937914\tvalidation_1-auc:0.532522\n",
      "[20]\tvalidation_0-auc:0.938818\tvalidation_1-auc:0.532172\n",
      "[21]\tvalidation_0-auc:0.93988\tvalidation_1-auc:0.53255\n",
      "[22]\tvalidation_0-auc:0.940468\tvalidation_1-auc:0.53192\n",
      "[23]\tvalidation_0-auc:0.943803\tvalidation_1-auc:0.527927\n",
      "[24]\tvalidation_0-auc:0.945984\tvalidation_1-auc:0.529722\n",
      "[25]\tvalidation_0-auc:0.948906\tvalidation_1-auc:0.527822\n",
      "[26]\tvalidation_0-auc:0.949433\tvalidation_1-auc:0.528363\n",
      "[27]\tvalidation_0-auc:0.949821\tvalidation_1-auc:0.527403\n",
      "[28]\tvalidation_0-auc:0.950832\tvalidation_1-auc:0.528772\n",
      "[29]\tvalidation_0-auc:0.95105\tvalidation_1-auc:0.530184\n",
      "[30]\tvalidation_0-auc:0.951617\tvalidation_1-auc:0.53086\n",
      "[31]\tvalidation_0-auc:0.951884\tvalidation_1-auc:0.531331\n",
      "[32]\tvalidation_0-auc:0.952678\tvalidation_1-auc:0.530725\n",
      "[33]\tvalidation_0-auc:0.952901\tvalidation_1-auc:0.532099\n",
      "[34]\tvalidation_0-auc:0.953076\tvalidation_1-auc:0.532481\n",
      "Stopping. Best iteration:\n",
      "[4]\tvalidation_0-auc:0.89371\tvalidation_1-auc:0.545431\n",
      "\n"
     ]
    },
    {
     "data": {
      "text/plain": [
       "XGBClassifier(base_score=0.5, booster='gbtree', colsample_bylevel=1,\n",
       "              colsample_bynode=1, colsample_bytree=1, gamma=1,\n",
       "              learning_rate=0.1, max_delta_step=0, max_depth=7,\n",
       "              min_child_weight=5, missing=None, n_estimators=100, n_jobs=1,\n",
       "              nthread=None, objective='binary:logistic', random_state=0,\n",
       "              reg_alpha=0, reg_lambda=1, scale_pos_weight=1, seed=42,\n",
       "              silent=True, subsample=1, verbosity=1)"
      ]
     },
     "execution_count": 32,
     "metadata": {
      "tags": []
     },
     "output_type": "execute_result"
    }
   ],
   "source": [
    "# train control model\n",
    "eval_set = [(X_train_control_upsamp, Y_train_control_upsamp), (X_valid_control, Y_valid_control)]\n",
    "model_control = xgb.XGBClassifier(learning_rate = 0.1,\\\n",
    "                                  max_depth = 7,\\\n",
    "                                  min_child_weight = 5,\\\n",
    "                                  objective = 'binary:logistic',\\\n",
    "                                  seed = 42,\\\n",
    "                                  gamma = 1,\\\n",
    "                                  #colsample_bytree = 0.1,\\\n",
    "                                  silent = True)\n",
    "model_control.fit(X_train_control_upsamp, Y_train_control_upsamp, eval_set=eval_set,\\\n",
    "                    eval_metric=\"auc\", verbose=True, early_stopping_rounds=30)"
   ]
  },
  {
   "cell_type": "code",
   "execution_count": 33,
   "metadata": {
    "colab": {
     "base_uri": "https://localhost:8080/",
     "height": 1000
    },
    "colab_type": "code",
    "id": "nicZdlCjFweR",
    "outputId": "cf295f77-9148-49e7-d0b4-3850cccc1d12"
   },
   "outputs": [
    {
     "name": "stdout",
     "output_type": "stream",
     "text": [
      "[0]\tvalidation_0-auc:0.860512\tvalidation_1-auc:0.822347\n",
      "Multiple eval metrics have been passed: 'validation_1-auc' will be used for early stopping.\n",
      "\n",
      "Will train until validation_1-auc hasn't improved in 30 rounds.\n",
      "[1]\tvalidation_0-auc:0.942944\tvalidation_1-auc:0.884253\n",
      "[2]\tvalidation_0-auc:0.946975\tvalidation_1-auc:0.887605\n",
      "[3]\tvalidation_0-auc:0.944969\tvalidation_1-auc:0.885654\n",
      "[4]\tvalidation_0-auc:0.948912\tvalidation_1-auc:0.886489\n",
      "[5]\tvalidation_0-auc:0.948923\tvalidation_1-auc:0.888753\n",
      "[6]\tvalidation_0-auc:0.949647\tvalidation_1-auc:0.888214\n",
      "[7]\tvalidation_0-auc:0.950388\tvalidation_1-auc:0.890281\n",
      "[8]\tvalidation_0-auc:0.952809\tvalidation_1-auc:0.88892\n",
      "[9]\tvalidation_0-auc:0.953169\tvalidation_1-auc:0.889753\n",
      "[10]\tvalidation_0-auc:0.955901\tvalidation_1-auc:0.892462\n",
      "[11]\tvalidation_0-auc:0.956347\tvalidation_1-auc:0.893301\n",
      "[12]\tvalidation_0-auc:0.957941\tvalidation_1-auc:0.893658\n",
      "[13]\tvalidation_0-auc:0.958667\tvalidation_1-auc:0.893347\n",
      "[14]\tvalidation_0-auc:0.958474\tvalidation_1-auc:0.89253\n",
      "[15]\tvalidation_0-auc:0.959546\tvalidation_1-auc:0.892947\n",
      "[16]\tvalidation_0-auc:0.959784\tvalidation_1-auc:0.892791\n",
      "[17]\tvalidation_0-auc:0.959557\tvalidation_1-auc:0.893965\n",
      "[18]\tvalidation_0-auc:0.960134\tvalidation_1-auc:0.894222\n",
      "[19]\tvalidation_0-auc:0.960698\tvalidation_1-auc:0.893164\n",
      "[20]\tvalidation_0-auc:0.960722\tvalidation_1-auc:0.893157\n",
      "[21]\tvalidation_0-auc:0.961091\tvalidation_1-auc:0.893508\n",
      "[22]\tvalidation_0-auc:0.96177\tvalidation_1-auc:0.893604\n",
      "[23]\tvalidation_0-auc:0.962457\tvalidation_1-auc:0.893612\n",
      "[24]\tvalidation_0-auc:0.962454\tvalidation_1-auc:0.892711\n",
      "[25]\tvalidation_0-auc:0.962518\tvalidation_1-auc:0.893907\n",
      "[26]\tvalidation_0-auc:0.962787\tvalidation_1-auc:0.894078\n",
      "[27]\tvalidation_0-auc:0.965338\tvalidation_1-auc:0.899253\n",
      "[28]\tvalidation_0-auc:0.965925\tvalidation_1-auc:0.899507\n",
      "[29]\tvalidation_0-auc:0.966367\tvalidation_1-auc:0.898585\n",
      "[30]\tvalidation_0-auc:0.968484\tvalidation_1-auc:0.902774\n",
      "[31]\tvalidation_0-auc:0.968516\tvalidation_1-auc:0.902129\n",
      "[32]\tvalidation_0-auc:0.969808\tvalidation_1-auc:0.904685\n",
      "[33]\tvalidation_0-auc:0.970152\tvalidation_1-auc:0.90462\n",
      "[34]\tvalidation_0-auc:0.970817\tvalidation_1-auc:0.904646\n",
      "[35]\tvalidation_0-auc:0.970974\tvalidation_1-auc:0.904499\n",
      "[36]\tvalidation_0-auc:0.972231\tvalidation_1-auc:0.907223\n",
      "[37]\tvalidation_0-auc:0.972561\tvalidation_1-auc:0.906602\n",
      "[38]\tvalidation_0-auc:0.972596\tvalidation_1-auc:0.906151\n",
      "[39]\tvalidation_0-auc:0.973574\tvalidation_1-auc:0.908049\n",
      "[40]\tvalidation_0-auc:0.974093\tvalidation_1-auc:0.908624\n",
      "[41]\tvalidation_0-auc:0.973955\tvalidation_1-auc:0.908846\n",
      "[42]\tvalidation_0-auc:0.974223\tvalidation_1-auc:0.908821\n",
      "[43]\tvalidation_0-auc:0.974278\tvalidation_1-auc:0.908737\n",
      "[44]\tvalidation_0-auc:0.975105\tvalidation_1-auc:0.910073\n",
      "[45]\tvalidation_0-auc:0.975205\tvalidation_1-auc:0.909819\n",
      "[46]\tvalidation_0-auc:0.975904\tvalidation_1-auc:0.911227\n",
      "[47]\tvalidation_0-auc:0.976182\tvalidation_1-auc:0.91198\n",
      "[48]\tvalidation_0-auc:0.976215\tvalidation_1-auc:0.912123\n",
      "[49]\tvalidation_0-auc:0.976429\tvalidation_1-auc:0.912264\n",
      "[50]\tvalidation_0-auc:0.97655\tvalidation_1-auc:0.911867\n",
      "[51]\tvalidation_0-auc:0.976963\tvalidation_1-auc:0.912628\n",
      "[52]\tvalidation_0-auc:0.976996\tvalidation_1-auc:0.912986\n",
      "[53]\tvalidation_0-auc:0.977405\tvalidation_1-auc:0.913675\n",
      "[54]\tvalidation_0-auc:0.977399\tvalidation_1-auc:0.913116\n",
      "[55]\tvalidation_0-auc:0.977547\tvalidation_1-auc:0.913231\n",
      "[56]\tvalidation_0-auc:0.977526\tvalidation_1-auc:0.913021\n",
      "[57]\tvalidation_0-auc:0.978284\tvalidation_1-auc:0.913626\n",
      "[58]\tvalidation_0-auc:0.978557\tvalidation_1-auc:0.913493\n",
      "[59]\tvalidation_0-auc:0.979422\tvalidation_1-auc:0.913773\n",
      "[60]\tvalidation_0-auc:0.979443\tvalidation_1-auc:0.913816\n",
      "[61]\tvalidation_0-auc:0.979733\tvalidation_1-auc:0.914037\n",
      "[62]\tvalidation_0-auc:0.979972\tvalidation_1-auc:0.913801\n",
      "[63]\tvalidation_0-auc:0.980913\tvalidation_1-auc:0.913714\n",
      "[64]\tvalidation_0-auc:0.98099\tvalidation_1-auc:0.913933\n",
      "[65]\tvalidation_0-auc:0.981262\tvalidation_1-auc:0.914111\n",
      "[66]\tvalidation_0-auc:0.981352\tvalidation_1-auc:0.91432\n",
      "[67]\tvalidation_0-auc:0.981997\tvalidation_1-auc:0.914898\n",
      "[68]\tvalidation_0-auc:0.982165\tvalidation_1-auc:0.914909\n",
      "[69]\tvalidation_0-auc:0.982316\tvalidation_1-auc:0.914278\n",
      "[70]\tvalidation_0-auc:0.982403\tvalidation_1-auc:0.914176\n",
      "[71]\tvalidation_0-auc:0.982784\tvalidation_1-auc:0.915032\n",
      "[72]\tvalidation_0-auc:0.98284\tvalidation_1-auc:0.915141\n",
      "[73]\tvalidation_0-auc:0.983037\tvalidation_1-auc:0.914668\n",
      "[74]\tvalidation_0-auc:0.983092\tvalidation_1-auc:0.915113\n",
      "[75]\tvalidation_0-auc:0.983368\tvalidation_1-auc:0.914862\n",
      "[76]\tvalidation_0-auc:0.983899\tvalidation_1-auc:0.915723\n",
      "[77]\tvalidation_0-auc:0.984312\tvalidation_1-auc:0.915078\n",
      "[78]\tvalidation_0-auc:0.985028\tvalidation_1-auc:0.915409\n",
      "[79]\tvalidation_0-auc:0.985041\tvalidation_1-auc:0.915568\n",
      "[80]\tvalidation_0-auc:0.985337\tvalidation_1-auc:0.915754\n",
      "[81]\tvalidation_0-auc:0.985513\tvalidation_1-auc:0.915822\n",
      "[82]\tvalidation_0-auc:0.985768\tvalidation_1-auc:0.915617\n",
      "[83]\tvalidation_0-auc:0.985911\tvalidation_1-auc:0.915559\n",
      "[84]\tvalidation_0-auc:0.985922\tvalidation_1-auc:0.915377\n",
      "[85]\tvalidation_0-auc:0.986012\tvalidation_1-auc:0.915071\n",
      "[86]\tvalidation_0-auc:0.986107\tvalidation_1-auc:0.915099\n",
      "[87]\tvalidation_0-auc:0.986126\tvalidation_1-auc:0.915414\n",
      "[88]\tvalidation_0-auc:0.986269\tvalidation_1-auc:0.915375\n",
      "[89]\tvalidation_0-auc:0.986439\tvalidation_1-auc:0.91563\n",
      "[90]\tvalidation_0-auc:0.98663\tvalidation_1-auc:0.915197\n",
      "[91]\tvalidation_0-auc:0.986726\tvalidation_1-auc:0.915249\n",
      "[92]\tvalidation_0-auc:0.986826\tvalidation_1-auc:0.915461\n",
      "[93]\tvalidation_0-auc:0.986833\tvalidation_1-auc:0.915676\n",
      "[94]\tvalidation_0-auc:0.986974\tvalidation_1-auc:0.915587\n",
      "[95]\tvalidation_0-auc:0.987109\tvalidation_1-auc:0.915407\n",
      "[96]\tvalidation_0-auc:0.987176\tvalidation_1-auc:0.915105\n",
      "[97]\tvalidation_0-auc:0.987248\tvalidation_1-auc:0.91481\n",
      "[98]\tvalidation_0-auc:0.987275\tvalidation_1-auc:0.915155\n",
      "[99]\tvalidation_0-auc:0.987492\tvalidation_1-auc:0.915565\n"
     ]
    },
    {
     "data": {
      "text/plain": [
       "XGBClassifier(base_score=0.5, booster='gbtree', colsample_bylevel=1,\n",
       "              colsample_bynode=1, colsample_bytree=1, gamma=1,\n",
       "              learning_rate=0.1, max_delta_step=0, max_depth=7,\n",
       "              min_child_weight=5, missing=None, n_estimators=100, n_jobs=1,\n",
       "              nthread=None, objective='binary:logistic', random_state=0,\n",
       "              reg_alpha=0, reg_lambda=1, scale_pos_weight=1, seed=42,\n",
       "              silent=True, subsample=1, verbosity=1)"
      ]
     },
     "execution_count": 33,
     "metadata": {
      "tags": []
     },
     "output_type": "execute_result"
    }
   ],
   "source": [
    "# train treatment model\n",
    "eval_set = [(X_train_exper_upsamp, Y_train_exper_upsamp), (X_valid_exper, Y_valid_exper)]\n",
    "model_exper = xgb.XGBClassifier(learning_rate = 0.1,\\\n",
    "                                max_depth = 7,\\\n",
    "                                min_child_weight = 5,\\\n",
    "                                objective = 'binary:logistic',\\\n",
    "                                seed = 42,\\\n",
    "                                gamma = 1,\\\n",
    "                                #colsample_bytree = 0.1,\\\n",
    "                                silent = True)\n",
    "model_exper.fit(X_train_exper_upsamp, Y_train_exper_upsamp, eval_set=eval_set,\\\n",
    "                eval_metric=\"auc\", verbose=True, early_stopping_rounds=30)"
   ]
  },
  {
   "cell_type": "code",
   "execution_count": 0,
   "metadata": {
    "colab": {},
    "colab_type": "code",
    "id": "yjn3HK_fFweU"
   },
   "outputs": [],
   "source": [
    "# make predictions on the validation data sets for both models\n",
    "control_valid_pred = model_control.predict(X_valid_control, ntree_limit=model_control.best_ntree_limit)\n",
    "exper_valid_pred = model_exper.predict(X_valid_exper, ntree_limit=model_exper.best_ntree_limit)"
   ]
  },
  {
   "cell_type": "code",
   "execution_count": 35,
   "metadata": {
    "colab": {
     "base_uri": "https://localhost:8080/",
     "height": 51
    },
    "colab_type": "code",
    "id": "vTnw03bZFwef",
    "outputId": "67fdc7b2-5a71-4f58-eaff-bcb559b1f011"
   },
   "outputs": [
    {
     "data": {
      "text/plain": [
       "array([[992,   1],\n",
       "       [140, 403]])"
      ]
     },
     "execution_count": 35,
     "metadata": {
      "tags": []
     },
     "output_type": "execute_result"
    }
   ],
   "source": [
    "# confusion marix for thge validation set\n",
    "valid_pred = model.predict(X_valid, ntree_limit=model.best_ntree_limit)\n",
    "cm = sk.metrics.confusion_matrix(Y_valid_exper, exper_valid_pred)\n",
    "\n",
    "cm"
   ]
  },
  {
   "cell_type": "code",
   "execution_count": 0,
   "metadata": {
    "colab": {},
    "colab_type": "code",
    "id": "SRTtrwoHFweh"
   },
   "outputs": [],
   "source": [
    "def promotion_strategy(df):\n",
    "\n",
    "    test = df\n",
    "    \n",
    "    pred_probs_contol = model_control.predict_proba(test, ntree_limit=model_control.best_ntree_limit)\n",
    "\n",
    "    pred_probs_exper = model_exper.predict_proba(test, ntree_limit=model_exper.best_ntree_limit)\n",
    "\n",
    "    # get difference in probabilities between experimental and cpntrol model for purchase = 1 label\n",
    "    lift = pred_probs_exper[:,1] - pred_probs_contol[:,1]\n",
    "    \n",
    "    promotion = []\n",
    "    \n",
    "    # Only send promotions to top 3 percentile of probabilities\n",
    "    cutoff_lift = np.percentile(lift, 97)\n",
    "    \n",
    "    for prob in lift:\n",
    "        if prob > 0:\n",
    "            if prob > cutoff_lift:\n",
    "                promotion.append('Yes')\n",
    "        else:\n",
    "            promotion.append('No')\n",
    "\n",
    "    promotion = np.array(promotion)\n",
    "    \n",
    "    return promotion"
   ]
  },
  {
   "cell_type": "code",
   "execution_count": 37,
   "metadata": {
    "colab": {
     "base_uri": "https://localhost:8080/",
     "height": 102
    },
    "colab_type": "code",
    "id": "jzdONgCCFwen",
    "outputId": "00b04b07-0e6e-458c-c9ee-41f53950a67a"
   },
   "outputs": [
    {
     "name": "stdout",
     "output_type": "stream",
     "text": [
      "Irr with this strategy is 0.3821.\n",
      "\n",
      "Nir with this strategy is 182.65.\n",
      "\n"
     ]
    },
    {
     "data": {
      "text/plain": [
       "(0.3820598006644518, 182.65)"
      ]
     },
     "execution_count": 37,
     "metadata": {
      "tags": []
     },
     "output_type": "execute_result"
    }
   ],
   "source": [
    "# find out irr and nlr on our validation set\n",
    "valid_results(promotion_strategy, valid)"
   ]
  },
  {
   "cell_type": "code",
   "execution_count": 0,
   "metadata": {
    "colab": {},
    "colab_type": "code",
    "id": "XvBcdsrnFwes"
   },
   "outputs": [],
   "source": [
    "# This will test your results, and provide you back some information \n",
    "# on how well your promotion_strategy will work in practice\n",
    "\n",
    "#test_results(promotion_strategy)"
   ]
  },
  {
   "cell_type": "markdown",
   "metadata": {
    "colab_type": "text",
    "id": "FdRYQ6ijFwev"
   },
   "source": [
    "## Model 3: Using Treatment Dummy Approach\n",
    "\n",
    "In this approach, a single model is used to model the data. This approach adds an additional indicator variable to track if an individual is in a treatment or control group during training. Any individuals who made purchases will be given a label of 1, irregradless of whether he or she is in the control or treatment group. \n",
    "\n",
    "To predict whether a new individual in a test set is likely to make a purhcase only after receiving a promotion, we can first calculate the probability that the individual will make a purchase if he or she is in the treatment group by setting the treatment indicator as 1. Next, we calculate the probability that the individual will make a purchase if he or she is in the control group by setting the treatment indicator as 0. The difference in the two probabilities will be the lift value, aka, how positively influenced the individual is as a result of the treatment (receiving promotion)\n",
    "\n",
    "We can opt to send promotions to individuals with prostive lift values. "
   ]
  },
  {
   "cell_type": "code",
   "execution_count": 39,
   "metadata": {
    "colab": {
     "base_uri": "https://localhost:8080/",
     "height": 224
    },
    "colab_type": "code",
    "id": "Q6so0ru-Fwew",
    "outputId": "3625e348-c5c6-4ad6-acbf-3ae1e215f26d"
   },
   "outputs": [
    {
     "data": {
      "text/html": [
       "<div>\n",
       "<style scoped>\n",
       "    .dataframe tbody tr th:only-of-type {\n",
       "        vertical-align: middle;\n",
       "    }\n",
       "\n",
       "    .dataframe tbody tr th {\n",
       "        vertical-align: top;\n",
       "    }\n",
       "\n",
       "    .dataframe thead th {\n",
       "        text-align: right;\n",
       "    }\n",
       "</style>\n",
       "<table border=\"1\" class=\"dataframe\">\n",
       "  <thead>\n",
       "    <tr style=\"text-align: right;\">\n",
       "      <th></th>\n",
       "      <th>index</th>\n",
       "      <th>day_num</th>\n",
       "      <th>per_id</th>\n",
       "      <th>offer_id</th>\n",
       "      <th>daily_amt_spent</th>\n",
       "      <th>num_trans</th>\n",
       "      <th>amt_spent_per_trans</th>\n",
       "      <th>num_offers</th>\n",
       "      <th>cost</th>\n",
       "      <th>profit</th>\n",
       "      <th>has_profit</th>\n",
       "      <th>target</th>\n",
       "      <th>quadrant</th>\n",
       "      <th>age</th>\n",
       "      <th>became_member_on</th>\n",
       "      <th>gender</th>\n",
       "      <th>income</th>\n",
       "      <th>gender_F</th>\n",
       "      <th>gender_M</th>\n",
       "      <th>gender_O</th>\n",
       "      <th>difficulty</th>\n",
       "      <th>duration</th>\n",
       "      <th>reward</th>\n",
       "      <th>email</th>\n",
       "      <th>mobile</th>\n",
       "      <th>social</th>\n",
       "      <th>web</th>\n",
       "      <th>offer_type_bogo</th>\n",
       "      <th>offer_type_discount</th>\n",
       "      <th>offer_type_informational</th>\n",
       "      <th>offer_id_0</th>\n",
       "      <th>offer_id_1</th>\n",
       "      <th>offer_id_2</th>\n",
       "      <th>offer_id_3</th>\n",
       "      <th>offer_id_4</th>\n",
       "      <th>offer_id_5</th>\n",
       "      <th>offer_id_6</th>\n",
       "      <th>offer_id_7</th>\n",
       "      <th>offer_id_8</th>\n",
       "      <th>offer_id_9</th>\n",
       "      <th>offer_id_10</th>\n",
       "      <th>treatment</th>\n",
       "    </tr>\n",
       "  </thead>\n",
       "  <tbody>\n",
       "    <tr>\n",
       "      <th>0</th>\n",
       "      <td>112</td>\n",
       "      <td>0.0</td>\n",
       "      <td>93.0</td>\n",
       "      <td>0.0</td>\n",
       "      <td>0.0</td>\n",
       "      <td>0.0</td>\n",
       "      <td>0.0</td>\n",
       "      <td>1</td>\n",
       "      <td>0.0</td>\n",
       "      <td>0.0</td>\n",
       "      <td>0.0</td>\n",
       "      <td>0</td>\n",
       "      <td>2</td>\n",
       "      <td>49</td>\n",
       "      <td>20170126</td>\n",
       "      <td>M</td>\n",
       "      <td>73000.0</td>\n",
       "      <td>0</td>\n",
       "      <td>1</td>\n",
       "      <td>0</td>\n",
       "      <td>20</td>\n",
       "      <td>240</td>\n",
       "      <td>5</td>\n",
       "      <td>1</td>\n",
       "      <td>0</td>\n",
       "      <td>0</td>\n",
       "      <td>1</td>\n",
       "      <td>0</td>\n",
       "      <td>1</td>\n",
       "      <td>0</td>\n",
       "      <td>1</td>\n",
       "      <td>0</td>\n",
       "      <td>0</td>\n",
       "      <td>0</td>\n",
       "      <td>0</td>\n",
       "      <td>0</td>\n",
       "      <td>0</td>\n",
       "      <td>0</td>\n",
       "      <td>0</td>\n",
       "      <td>0</td>\n",
       "      <td>0</td>\n",
       "      <td>1</td>\n",
       "    </tr>\n",
       "    <tr>\n",
       "      <th>1</th>\n",
       "      <td>113</td>\n",
       "      <td>0.0</td>\n",
       "      <td>93.0</td>\n",
       "      <td>10.0</td>\n",
       "      <td>0.0</td>\n",
       "      <td>0.0</td>\n",
       "      <td>0.0</td>\n",
       "      <td>1</td>\n",
       "      <td>0.0</td>\n",
       "      <td>0.0</td>\n",
       "      <td>0.0</td>\n",
       "      <td>0</td>\n",
       "      <td>3</td>\n",
       "      <td>49</td>\n",
       "      <td>20170126</td>\n",
       "      <td>M</td>\n",
       "      <td>73000.0</td>\n",
       "      <td>0</td>\n",
       "      <td>1</td>\n",
       "      <td>0</td>\n",
       "      <td>0</td>\n",
       "      <td>30</td>\n",
       "      <td>0</td>\n",
       "      <td>0</td>\n",
       "      <td>0</td>\n",
       "      <td>0</td>\n",
       "      <td>0</td>\n",
       "      <td>0</td>\n",
       "      <td>0</td>\n",
       "      <td>0</td>\n",
       "      <td>0</td>\n",
       "      <td>0</td>\n",
       "      <td>0</td>\n",
       "      <td>0</td>\n",
       "      <td>0</td>\n",
       "      <td>0</td>\n",
       "      <td>0</td>\n",
       "      <td>0</td>\n",
       "      <td>0</td>\n",
       "      <td>0</td>\n",
       "      <td>1</td>\n",
       "      <td>0</td>\n",
       "    </tr>\n",
       "    <tr>\n",
       "      <th>2</th>\n",
       "      <td>114</td>\n",
       "      <td>0.0</td>\n",
       "      <td>94.0</td>\n",
       "      <td>0.0</td>\n",
       "      <td>0.0</td>\n",
       "      <td>0.0</td>\n",
       "      <td>0.0</td>\n",
       "      <td>1</td>\n",
       "      <td>0.0</td>\n",
       "      <td>0.0</td>\n",
       "      <td>0.0</td>\n",
       "      <td>0</td>\n",
       "      <td>2</td>\n",
       "      <td>44</td>\n",
       "      <td>20180312</td>\n",
       "      <td>F</td>\n",
       "      <td>76000.0</td>\n",
       "      <td>1</td>\n",
       "      <td>0</td>\n",
       "      <td>0</td>\n",
       "      <td>20</td>\n",
       "      <td>240</td>\n",
       "      <td>5</td>\n",
       "      <td>1</td>\n",
       "      <td>0</td>\n",
       "      <td>0</td>\n",
       "      <td>1</td>\n",
       "      <td>0</td>\n",
       "      <td>1</td>\n",
       "      <td>0</td>\n",
       "      <td>1</td>\n",
       "      <td>0</td>\n",
       "      <td>0</td>\n",
       "      <td>0</td>\n",
       "      <td>0</td>\n",
       "      <td>0</td>\n",
       "      <td>0</td>\n",
       "      <td>0</td>\n",
       "      <td>0</td>\n",
       "      <td>0</td>\n",
       "      <td>0</td>\n",
       "      <td>1</td>\n",
       "    </tr>\n",
       "    <tr>\n",
       "      <th>3</th>\n",
       "      <td>115</td>\n",
       "      <td>0.0</td>\n",
       "      <td>94.0</td>\n",
       "      <td>10.0</td>\n",
       "      <td>0.0</td>\n",
       "      <td>0.0</td>\n",
       "      <td>0.0</td>\n",
       "      <td>1</td>\n",
       "      <td>0.0</td>\n",
       "      <td>0.0</td>\n",
       "      <td>0.0</td>\n",
       "      <td>0</td>\n",
       "      <td>3</td>\n",
       "      <td>44</td>\n",
       "      <td>20180312</td>\n",
       "      <td>F</td>\n",
       "      <td>76000.0</td>\n",
       "      <td>1</td>\n",
       "      <td>0</td>\n",
       "      <td>0</td>\n",
       "      <td>0</td>\n",
       "      <td>30</td>\n",
       "      <td>0</td>\n",
       "      <td>0</td>\n",
       "      <td>0</td>\n",
       "      <td>0</td>\n",
       "      <td>0</td>\n",
       "      <td>0</td>\n",
       "      <td>0</td>\n",
       "      <td>0</td>\n",
       "      <td>0</td>\n",
       "      <td>0</td>\n",
       "      <td>0</td>\n",
       "      <td>0</td>\n",
       "      <td>0</td>\n",
       "      <td>0</td>\n",
       "      <td>0</td>\n",
       "      <td>0</td>\n",
       "      <td>0</td>\n",
       "      <td>0</td>\n",
       "      <td>1</td>\n",
       "      <td>0</td>\n",
       "    </tr>\n",
       "    <tr>\n",
       "      <th>4</th>\n",
       "      <td>166</td>\n",
       "      <td>0.0</td>\n",
       "      <td>134.0</td>\n",
       "      <td>0.0</td>\n",
       "      <td>0.0</td>\n",
       "      <td>0.0</td>\n",
       "      <td>0.0</td>\n",
       "      <td>1</td>\n",
       "      <td>0.0</td>\n",
       "      <td>0.0</td>\n",
       "      <td>0.0</td>\n",
       "      <td>0</td>\n",
       "      <td>2</td>\n",
       "      <td>62</td>\n",
       "      <td>20180629</td>\n",
       "      <td>F</td>\n",
       "      <td>40000.0</td>\n",
       "      <td>1</td>\n",
       "      <td>0</td>\n",
       "      <td>0</td>\n",
       "      <td>20</td>\n",
       "      <td>240</td>\n",
       "      <td>5</td>\n",
       "      <td>1</td>\n",
       "      <td>0</td>\n",
       "      <td>0</td>\n",
       "      <td>1</td>\n",
       "      <td>0</td>\n",
       "      <td>1</td>\n",
       "      <td>0</td>\n",
       "      <td>1</td>\n",
       "      <td>0</td>\n",
       "      <td>0</td>\n",
       "      <td>0</td>\n",
       "      <td>0</td>\n",
       "      <td>0</td>\n",
       "      <td>0</td>\n",
       "      <td>0</td>\n",
       "      <td>0</td>\n",
       "      <td>0</td>\n",
       "      <td>0</td>\n",
       "      <td>1</td>\n",
       "    </tr>\n",
       "  </tbody>\n",
       "</table>\n",
       "</div>"
      ],
      "text/plain": [
       "   index  day_num  per_id  ...  offer_id_9  offer_id_10  treatment\n",
       "0    112      0.0    93.0  ...           0            0          1\n",
       "1    113      0.0    93.0  ...           0            1          0\n",
       "2    114      0.0    94.0  ...           0            0          1\n",
       "3    115      0.0    94.0  ...           0            1          0\n",
       "4    166      0.0   134.0  ...           0            0          1\n",
       "\n",
       "[5 rows x 42 columns]"
      ]
     },
     "execution_count": 39,
     "metadata": {
      "tags": []
     },
     "output_type": "execute_result"
    }
   ],
   "source": [
    "# encode Promotion as 0 or 1 indicator variable\n",
    "train_data['treatment'] = np.where(train_data['offer_id'] != 10, 1, 0)\n",
    "train_data.head()"
   ]
  },
  {
   "cell_type": "code",
   "execution_count": 0,
   "metadata": {
    "colab": {},
    "colab_type": "code",
    "id": "5_JnjMfXFwez"
   },
   "outputs": [],
   "source": [
    "train, valid = sk.model_selection.train_test_split(train_data, test_size=0.2,random_state=42)\n",
    "\n",
    "features = ['day_num', 'per_id', 'age', 'became_member_on', 'income', 'gender_F', 'gender_M','gender_O','treatment']\n",
    "\n",
    "Y_train = train['has_profit']\n",
    "X_train = train[features]\n",
    "\n",
    "Y_valid = valid['has_profit']\n",
    "X_valid = valid[features]"
   ]
  },
  {
   "cell_type": "code",
   "execution_count": 0,
   "metadata": {
    "colab": {},
    "colab_type": "code",
    "id": "fM7n85roFwe0"
   },
   "outputs": [],
   "source": [
    "# up sample with SMOTE\n",
    "sm = SMOTE(random_state=42, ratio = 1.0)\n",
    "X_train_upsamp, Y_train_upsamp = sm.fit_sample(X_train, Y_train)\n",
    "    \n",
    "X_train_upsamp = pd.DataFrame(X_train_upsamp, columns=features)\n",
    "\n",
    "Y_train_upsamp = pd.Series(Y_train_upsamp)"
   ]
  },
  {
   "cell_type": "code",
   "execution_count": 42,
   "metadata": {
    "colab": {
     "base_uri": "https://localhost:8080/",
     "height": 1000
    },
    "colab_type": "code",
    "id": "sy3xWY5OFwe2",
    "outputId": "ac294df8-a153-4c0d-9278-ba62b4114943"
   },
   "outputs": [
    {
     "name": "stdout",
     "output_type": "stream",
     "text": [
      "[0]\tvalidation_0-auc:0.890381\tvalidation_1-auc:0.766088\n",
      "Multiple eval metrics have been passed: 'validation_1-auc' will be used for early stopping.\n",
      "\n",
      "Will train until validation_1-auc hasn't improved in 30 rounds.\n",
      "[1]\tvalidation_0-auc:0.90868\tvalidation_1-auc:0.783147\n",
      "[2]\tvalidation_0-auc:0.910981\tvalidation_1-auc:0.783784\n",
      "[3]\tvalidation_0-auc:0.910802\tvalidation_1-auc:0.783867\n",
      "[4]\tvalidation_0-auc:0.930741\tvalidation_1-auc:0.800555\n",
      "[5]\tvalidation_0-auc:0.931316\tvalidation_1-auc:0.800174\n",
      "[6]\tvalidation_0-auc:0.931643\tvalidation_1-auc:0.800364\n",
      "[7]\tvalidation_0-auc:0.937656\tvalidation_1-auc:0.804337\n",
      "[8]\tvalidation_0-auc:0.937943\tvalidation_1-auc:0.805361\n",
      "[9]\tvalidation_0-auc:0.939328\tvalidation_1-auc:0.803705\n",
      "[10]\tvalidation_0-auc:0.939927\tvalidation_1-auc:0.80423\n",
      "[11]\tvalidation_0-auc:0.941199\tvalidation_1-auc:0.804503\n",
      "[12]\tvalidation_0-auc:0.942797\tvalidation_1-auc:0.805473\n",
      "[13]\tvalidation_0-auc:0.943537\tvalidation_1-auc:0.803649\n",
      "[14]\tvalidation_0-auc:0.945687\tvalidation_1-auc:0.804495\n",
      "[15]\tvalidation_0-auc:0.946301\tvalidation_1-auc:0.803859\n",
      "[16]\tvalidation_0-auc:0.947761\tvalidation_1-auc:0.805534\n",
      "[17]\tvalidation_0-auc:0.948185\tvalidation_1-auc:0.805333\n",
      "[18]\tvalidation_0-auc:0.948566\tvalidation_1-auc:0.806185\n",
      "[19]\tvalidation_0-auc:0.948586\tvalidation_1-auc:0.805654\n",
      "[20]\tvalidation_0-auc:0.949926\tvalidation_1-auc:0.807031\n",
      "[21]\tvalidation_0-auc:0.950526\tvalidation_1-auc:0.805891\n",
      "[22]\tvalidation_0-auc:0.95151\tvalidation_1-auc:0.8078\n",
      "[23]\tvalidation_0-auc:0.952973\tvalidation_1-auc:0.807487\n",
      "[24]\tvalidation_0-auc:0.954254\tvalidation_1-auc:0.807421\n",
      "[25]\tvalidation_0-auc:0.955132\tvalidation_1-auc:0.806363\n",
      "[26]\tvalidation_0-auc:0.955568\tvalidation_1-auc:0.805914\n",
      "[27]\tvalidation_0-auc:0.955882\tvalidation_1-auc:0.805187\n",
      "[28]\tvalidation_0-auc:0.956873\tvalidation_1-auc:0.80475\n",
      "[29]\tvalidation_0-auc:0.957335\tvalidation_1-auc:0.805028\n",
      "[30]\tvalidation_0-auc:0.957579\tvalidation_1-auc:0.804941\n",
      "[31]\tvalidation_0-auc:0.958856\tvalidation_1-auc:0.80686\n",
      "[32]\tvalidation_0-auc:0.959295\tvalidation_1-auc:0.807038\n",
      "[33]\tvalidation_0-auc:0.960242\tvalidation_1-auc:0.808278\n",
      "[34]\tvalidation_0-auc:0.960431\tvalidation_1-auc:0.808169\n",
      "[35]\tvalidation_0-auc:0.962006\tvalidation_1-auc:0.808616\n",
      "[36]\tvalidation_0-auc:0.962718\tvalidation_1-auc:0.810404\n",
      "[37]\tvalidation_0-auc:0.96391\tvalidation_1-auc:0.811596\n",
      "[38]\tvalidation_0-auc:0.964407\tvalidation_1-auc:0.812718\n",
      "[39]\tvalidation_0-auc:0.965396\tvalidation_1-auc:0.813275\n",
      "[40]\tvalidation_0-auc:0.965993\tvalidation_1-auc:0.814454\n",
      "[41]\tvalidation_0-auc:0.966119\tvalidation_1-auc:0.814451\n",
      "[42]\tvalidation_0-auc:0.966874\tvalidation_1-auc:0.815311\n",
      "[43]\tvalidation_0-auc:0.967308\tvalidation_1-auc:0.815855\n",
      "[44]\tvalidation_0-auc:0.967845\tvalidation_1-auc:0.815846\n",
      "[45]\tvalidation_0-auc:0.968263\tvalidation_1-auc:0.816527\n",
      "[46]\tvalidation_0-auc:0.968557\tvalidation_1-auc:0.816597\n",
      "[47]\tvalidation_0-auc:0.968805\tvalidation_1-auc:0.816751\n",
      "[48]\tvalidation_0-auc:0.969086\tvalidation_1-auc:0.817345\n",
      "[49]\tvalidation_0-auc:0.96946\tvalidation_1-auc:0.81758\n",
      "[50]\tvalidation_0-auc:0.969565\tvalidation_1-auc:0.817547\n",
      "[51]\tvalidation_0-auc:0.969674\tvalidation_1-auc:0.817264\n",
      "[52]\tvalidation_0-auc:0.970046\tvalidation_1-auc:0.817121\n",
      "[53]\tvalidation_0-auc:0.970169\tvalidation_1-auc:0.817081\n",
      "[54]\tvalidation_0-auc:0.970476\tvalidation_1-auc:0.817212\n",
      "[55]\tvalidation_0-auc:0.971097\tvalidation_1-auc:0.817177\n",
      "[56]\tvalidation_0-auc:0.971338\tvalidation_1-auc:0.817496\n",
      "[57]\tvalidation_0-auc:0.971417\tvalidation_1-auc:0.817686\n",
      "[58]\tvalidation_0-auc:0.971889\tvalidation_1-auc:0.817672\n",
      "[59]\tvalidation_0-auc:0.972169\tvalidation_1-auc:0.817076\n",
      "[60]\tvalidation_0-auc:0.972219\tvalidation_1-auc:0.817364\n",
      "[61]\tvalidation_0-auc:0.972417\tvalidation_1-auc:0.817163\n",
      "[62]\tvalidation_0-auc:0.972726\tvalidation_1-auc:0.817113\n",
      "[63]\tvalidation_0-auc:0.972859\tvalidation_1-auc:0.816835\n",
      "[64]\tvalidation_0-auc:0.972998\tvalidation_1-auc:0.817363\n",
      "[65]\tvalidation_0-auc:0.973317\tvalidation_1-auc:0.817843\n",
      "[66]\tvalidation_0-auc:0.973465\tvalidation_1-auc:0.817903\n",
      "[67]\tvalidation_0-auc:0.973635\tvalidation_1-auc:0.818129\n",
      "[68]\tvalidation_0-auc:0.973831\tvalidation_1-auc:0.818432\n",
      "[69]\tvalidation_0-auc:0.973912\tvalidation_1-auc:0.818555\n",
      "[70]\tvalidation_0-auc:0.974133\tvalidation_1-auc:0.818939\n",
      "[71]\tvalidation_0-auc:0.974339\tvalidation_1-auc:0.818739\n",
      "[72]\tvalidation_0-auc:0.974558\tvalidation_1-auc:0.818865\n",
      "[73]\tvalidation_0-auc:0.974694\tvalidation_1-auc:0.818717\n",
      "[74]\tvalidation_0-auc:0.974793\tvalidation_1-auc:0.81895\n",
      "[75]\tvalidation_0-auc:0.974932\tvalidation_1-auc:0.818954\n",
      "[76]\tvalidation_0-auc:0.975363\tvalidation_1-auc:0.819352\n",
      "[77]\tvalidation_0-auc:0.975443\tvalidation_1-auc:0.819532\n",
      "[78]\tvalidation_0-auc:0.97559\tvalidation_1-auc:0.8201\n",
      "[79]\tvalidation_0-auc:0.975696\tvalidation_1-auc:0.819851\n",
      "[80]\tvalidation_0-auc:0.975946\tvalidation_1-auc:0.820054\n",
      "[81]\tvalidation_0-auc:0.975992\tvalidation_1-auc:0.820014\n",
      "[82]\tvalidation_0-auc:0.976102\tvalidation_1-auc:0.820277\n",
      "[83]\tvalidation_0-auc:0.976223\tvalidation_1-auc:0.82015\n",
      "[84]\tvalidation_0-auc:0.976332\tvalidation_1-auc:0.819865\n",
      "[85]\tvalidation_0-auc:0.976444\tvalidation_1-auc:0.820144\n",
      "[86]\tvalidation_0-auc:0.976589\tvalidation_1-auc:0.819832\n",
      "[87]\tvalidation_0-auc:0.976659\tvalidation_1-auc:0.819707\n",
      "[88]\tvalidation_0-auc:0.976695\tvalidation_1-auc:0.819523\n",
      "[89]\tvalidation_0-auc:0.976884\tvalidation_1-auc:0.819352\n",
      "[90]\tvalidation_0-auc:0.977076\tvalidation_1-auc:0.819296\n",
      "[91]\tvalidation_0-auc:0.977181\tvalidation_1-auc:0.819417\n",
      "[92]\tvalidation_0-auc:0.977255\tvalidation_1-auc:0.819242\n",
      "[93]\tvalidation_0-auc:0.9773\tvalidation_1-auc:0.819221\n",
      "[94]\tvalidation_0-auc:0.977482\tvalidation_1-auc:0.818715\n",
      "[95]\tvalidation_0-auc:0.977665\tvalidation_1-auc:0.818452\n",
      "[96]\tvalidation_0-auc:0.978121\tvalidation_1-auc:0.818862\n",
      "[97]\tvalidation_0-auc:0.978308\tvalidation_1-auc:0.818742\n",
      "[98]\tvalidation_0-auc:0.978401\tvalidation_1-auc:0.81849\n",
      "[99]\tvalidation_0-auc:0.97861\tvalidation_1-auc:0.818604\n"
     ]
    },
    {
     "data": {
      "text/plain": [
       "XGBClassifier(base_score=0.5, booster='gbtree', colsample_bylevel=1,\n",
       "              colsample_bynode=1, colsample_bytree=1, gamma=0.1,\n",
       "              learning_rate=0.1, max_delta_step=0, max_depth=7,\n",
       "              min_child_weight=5, missing=None, n_estimators=100, n_jobs=1,\n",
       "              nthread=None, objective='binary:logistic', random_state=0,\n",
       "              reg_alpha=0, reg_lambda=1, scale_pos_weight=1, seed=42,\n",
       "              silent=True, subsample=1, verbosity=1)"
      ]
     },
     "execution_count": 42,
     "metadata": {
      "tags": []
     },
     "output_type": "execute_result"
    }
   ],
   "source": [
    "eval_set = [(X_train_upsamp, Y_train_upsamp), (X_valid, Y_valid)]\n",
    "model = xgb.XGBClassifier(learning_rate = 0.1,\\\n",
    "                                  max_depth = 7,\\\n",
    "                                  min_child_weight = 5,\\\n",
    "                                  objective = 'binary:logistic',\\\n",
    "                                  seed = 42,\\\n",
    "                                  gamma = 0.1,\\\n",
    "                                  silent = True)\n",
    "model.fit(X_train_upsamp, Y_train_upsamp, eval_set=eval_set,\\\n",
    "                    eval_metric=\"auc\", verbose=True, early_stopping_rounds=30)"
   ]
  },
  {
   "cell_type": "code",
   "execution_count": 43,
   "metadata": {
    "colab": {
     "base_uri": "https://localhost:8080/",
     "height": 51
    },
    "colab_type": "code",
    "id": "RAPq75fJFwe3",
    "outputId": "9a4d460f-f19e-4285-9916-10179e52ff43"
   },
   "outputs": [
    {
     "data": {
      "text/plain": [
       "array([[2370,    7],\n",
       "       [ 337,  401]])"
      ]
     },
     "execution_count": 43,
     "metadata": {
      "tags": []
     },
     "output_type": "execute_result"
    }
   ],
   "source": [
    "# confusion marix for thge validation set\n",
    "valid_pred = model.predict(X_valid, ntree_limit=model.best_ntree_limit)\n",
    "cm = sk.metrics.confusion_matrix(Y_valid, valid_pred)\n",
    "\n",
    "cm"
   ]
  },
  {
   "cell_type": "code",
   "execution_count": 0,
   "metadata": {
    "colab": {},
    "colab_type": "code",
    "id": "BIk58VeOFwe6"
   },
   "outputs": [],
   "source": [
    "def promotion_strategy(df):\n",
    "\n",
    "    test = df\n",
    "    \n",
    "    # Fit a model with treatment = 1 for all data points\n",
    "    test['treatment'] = 1.0\n",
    "    preds_treat = model.predict_proba(test, ntree_limit=model.best_ntree_limit)\n",
    "    \n",
    "    # Fit a model with treatment = 0 for all data points\n",
    "    test['treatment'] = 0.0\n",
    "    preds_cont = model.predict_proba(test, ntree_limit=model.best_ntree_limit)\n",
    "    \n",
    "    lift = preds_treat[:,1] - preds_cont[:,1]\n",
    "    \n",
    "    promotion = []\n",
    "    \n",
    "    for prob in lift:\n",
    "        if prob > 0:\n",
    "            promotion.append('Yes')\n",
    "        else:\n",
    "            promotion.append('No')\n",
    "\n",
    "    promotion = np.array(promotion)\n",
    "    \n",
    "    return promotion"
   ]
  },
  {
   "cell_type": "code",
   "execution_count": 45,
   "metadata": {
    "colab": {
     "base_uri": "https://localhost:8080/",
     "height": 306
    },
    "colab_type": "code",
    "id": "DCUt54KMFwe7",
    "outputId": "9eb1c2be-6aa9-4a39-efd8-c969a7531973"
   },
   "outputs": [
    {
     "name": "stdout",
     "output_type": "stream",
     "text": [
      "Irr with this strategy is 0.3569.\n",
      "\n",
      "Nir with this strategy is 3696.50.\n",
      "\n"
     ]
    },
    {
     "name": "stderr",
     "output_type": "stream",
     "text": [
      "/usr/local/lib/python3.6/dist-packages/ipykernel_launcher.py:6: SettingWithCopyWarning: \n",
      "A value is trying to be set on a copy of a slice from a DataFrame.\n",
      "Try using .loc[row_indexer,col_indexer] = value instead\n",
      "\n",
      "See the caveats in the documentation: http://pandas.pydata.org/pandas-docs/stable/indexing.html#indexing-view-versus-copy\n",
      "  \n",
      "/usr/local/lib/python3.6/dist-packages/ipykernel_launcher.py:10: SettingWithCopyWarning: \n",
      "A value is trying to be set on a copy of a slice from a DataFrame.\n",
      "Try using .loc[row_indexer,col_indexer] = value instead\n",
      "\n",
      "See the caveats in the documentation: http://pandas.pydata.org/pandas-docs/stable/indexing.html#indexing-view-versus-copy\n",
      "  # Remove the CWD from sys.path while we load stuff.\n"
     ]
    },
    {
     "data": {
      "text/plain": [
       "(0.3568782699399604, 3696.5)"
      ]
     },
     "execution_count": 45,
     "metadata": {
      "tags": []
     },
     "output_type": "execute_result"
    }
   ],
   "source": [
    "# find out irr and nlr on our validation set\n",
    "valid_results(promotion_strategy, valid)"
   ]
  },
  {
   "cell_type": "code",
   "execution_count": 0,
   "metadata": {
    "colab": {},
    "colab_type": "code",
    "id": "ITTNhdD2Fwe_"
   },
   "outputs": [],
   "source": [
    "# This will test your results, and provide you back some information \n",
    "# on how well your promotion_strategy will work in practice\n",
    "\n",
    "#test_results(promotion_strategy)"
   ]
  },
  {
   "cell_type": "markdown",
   "metadata": {
    "colab_type": "text",
    "id": "0EpP-JfSFwfB"
   },
   "source": [
    "## Model 4: Four Quadrant Method\n",
    "\n",
    " It suggested designing a model to predict an individual's probability of being in any of the 4 groups: TR, CR, TN, CN.\n",
    "\n",
    "TR: Treatment and Responded. Basically received promotion and made a purchase\n",
    "CR: Control and Responded. Did not receive a promotion but made a purchase\n",
    "TN: Treatment and No Response. Received promotion but made no purchase\n",
    "CN: Control and No Response. Did not receive a promotion and made no purchase\n",
    "\n",
    "If an individual's TR probability is the highest among the four groups, it is likely that we will benefit by sending the individual a promotion to induce him or her to make a purchase."
   ]
  },
  {
   "cell_type": "code",
   "execution_count": 47,
   "metadata": {
    "colab": {
     "base_uri": "https://localhost:8080/",
     "height": 224
    },
    "colab_type": "code",
    "id": "rch65mTcFwfF",
    "outputId": "edb36762-4668-47b5-967c-ef61944de9ab"
   },
   "outputs": [
    {
     "data": {
      "text/html": [
       "<div>\n",
       "<style scoped>\n",
       "    .dataframe tbody tr th:only-of-type {\n",
       "        vertical-align: middle;\n",
       "    }\n",
       "\n",
       "    .dataframe tbody tr th {\n",
       "        vertical-align: top;\n",
       "    }\n",
       "\n",
       "    .dataframe thead th {\n",
       "        text-align: right;\n",
       "    }\n",
       "</style>\n",
       "<table border=\"1\" class=\"dataframe\">\n",
       "  <thead>\n",
       "    <tr style=\"text-align: right;\">\n",
       "      <th></th>\n",
       "      <th>index</th>\n",
       "      <th>day_num</th>\n",
       "      <th>per_id</th>\n",
       "      <th>offer_id</th>\n",
       "      <th>daily_amt_spent</th>\n",
       "      <th>num_trans</th>\n",
       "      <th>amt_spent_per_trans</th>\n",
       "      <th>num_offers</th>\n",
       "      <th>cost</th>\n",
       "      <th>profit</th>\n",
       "      <th>has_profit</th>\n",
       "      <th>target</th>\n",
       "      <th>quadrant</th>\n",
       "      <th>age</th>\n",
       "      <th>became_member_on</th>\n",
       "      <th>gender</th>\n",
       "      <th>income</th>\n",
       "      <th>gender_F</th>\n",
       "      <th>gender_M</th>\n",
       "      <th>gender_O</th>\n",
       "      <th>difficulty</th>\n",
       "      <th>duration</th>\n",
       "      <th>reward</th>\n",
       "      <th>email</th>\n",
       "      <th>mobile</th>\n",
       "      <th>social</th>\n",
       "      <th>web</th>\n",
       "      <th>offer_type_bogo</th>\n",
       "      <th>offer_type_discount</th>\n",
       "      <th>offer_type_informational</th>\n",
       "      <th>offer_id_0</th>\n",
       "      <th>offer_id_1</th>\n",
       "      <th>offer_id_2</th>\n",
       "      <th>offer_id_3</th>\n",
       "      <th>offer_id_4</th>\n",
       "      <th>offer_id_5</th>\n",
       "      <th>offer_id_6</th>\n",
       "      <th>offer_id_7</th>\n",
       "      <th>offer_id_8</th>\n",
       "      <th>offer_id_9</th>\n",
       "      <th>offer_id_10</th>\n",
       "      <th>treatment</th>\n",
       "    </tr>\n",
       "  </thead>\n",
       "  <tbody>\n",
       "    <tr>\n",
       "      <th>0</th>\n",
       "      <td>112</td>\n",
       "      <td>0.0</td>\n",
       "      <td>93.0</td>\n",
       "      <td>0.0</td>\n",
       "      <td>0.0</td>\n",
       "      <td>0.0</td>\n",
       "      <td>0.0</td>\n",
       "      <td>1</td>\n",
       "      <td>0.0</td>\n",
       "      <td>0.0</td>\n",
       "      <td>0.0</td>\n",
       "      <td>2</td>\n",
       "      <td>2</td>\n",
       "      <td>49</td>\n",
       "      <td>20170126</td>\n",
       "      <td>M</td>\n",
       "      <td>73000.0</td>\n",
       "      <td>0</td>\n",
       "      <td>1</td>\n",
       "      <td>0</td>\n",
       "      <td>20</td>\n",
       "      <td>240</td>\n",
       "      <td>5</td>\n",
       "      <td>1</td>\n",
       "      <td>0</td>\n",
       "      <td>0</td>\n",
       "      <td>1</td>\n",
       "      <td>0</td>\n",
       "      <td>1</td>\n",
       "      <td>0</td>\n",
       "      <td>1</td>\n",
       "      <td>0</td>\n",
       "      <td>0</td>\n",
       "      <td>0</td>\n",
       "      <td>0</td>\n",
       "      <td>0</td>\n",
       "      <td>0</td>\n",
       "      <td>0</td>\n",
       "      <td>0</td>\n",
       "      <td>0</td>\n",
       "      <td>0</td>\n",
       "      <td>1</td>\n",
       "    </tr>\n",
       "    <tr>\n",
       "      <th>1</th>\n",
       "      <td>113</td>\n",
       "      <td>0.0</td>\n",
       "      <td>93.0</td>\n",
       "      <td>10.0</td>\n",
       "      <td>0.0</td>\n",
       "      <td>0.0</td>\n",
       "      <td>0.0</td>\n",
       "      <td>1</td>\n",
       "      <td>0.0</td>\n",
       "      <td>0.0</td>\n",
       "      <td>0.0</td>\n",
       "      <td>3</td>\n",
       "      <td>3</td>\n",
       "      <td>49</td>\n",
       "      <td>20170126</td>\n",
       "      <td>M</td>\n",
       "      <td>73000.0</td>\n",
       "      <td>0</td>\n",
       "      <td>1</td>\n",
       "      <td>0</td>\n",
       "      <td>0</td>\n",
       "      <td>30</td>\n",
       "      <td>0</td>\n",
       "      <td>0</td>\n",
       "      <td>0</td>\n",
       "      <td>0</td>\n",
       "      <td>0</td>\n",
       "      <td>0</td>\n",
       "      <td>0</td>\n",
       "      <td>0</td>\n",
       "      <td>0</td>\n",
       "      <td>0</td>\n",
       "      <td>0</td>\n",
       "      <td>0</td>\n",
       "      <td>0</td>\n",
       "      <td>0</td>\n",
       "      <td>0</td>\n",
       "      <td>0</td>\n",
       "      <td>0</td>\n",
       "      <td>0</td>\n",
       "      <td>1</td>\n",
       "      <td>0</td>\n",
       "    </tr>\n",
       "    <tr>\n",
       "      <th>2</th>\n",
       "      <td>114</td>\n",
       "      <td>0.0</td>\n",
       "      <td>94.0</td>\n",
       "      <td>0.0</td>\n",
       "      <td>0.0</td>\n",
       "      <td>0.0</td>\n",
       "      <td>0.0</td>\n",
       "      <td>1</td>\n",
       "      <td>0.0</td>\n",
       "      <td>0.0</td>\n",
       "      <td>0.0</td>\n",
       "      <td>2</td>\n",
       "      <td>2</td>\n",
       "      <td>44</td>\n",
       "      <td>20180312</td>\n",
       "      <td>F</td>\n",
       "      <td>76000.0</td>\n",
       "      <td>1</td>\n",
       "      <td>0</td>\n",
       "      <td>0</td>\n",
       "      <td>20</td>\n",
       "      <td>240</td>\n",
       "      <td>5</td>\n",
       "      <td>1</td>\n",
       "      <td>0</td>\n",
       "      <td>0</td>\n",
       "      <td>1</td>\n",
       "      <td>0</td>\n",
       "      <td>1</td>\n",
       "      <td>0</td>\n",
       "      <td>1</td>\n",
       "      <td>0</td>\n",
       "      <td>0</td>\n",
       "      <td>0</td>\n",
       "      <td>0</td>\n",
       "      <td>0</td>\n",
       "      <td>0</td>\n",
       "      <td>0</td>\n",
       "      <td>0</td>\n",
       "      <td>0</td>\n",
       "      <td>0</td>\n",
       "      <td>1</td>\n",
       "    </tr>\n",
       "    <tr>\n",
       "      <th>3</th>\n",
       "      <td>115</td>\n",
       "      <td>0.0</td>\n",
       "      <td>94.0</td>\n",
       "      <td>10.0</td>\n",
       "      <td>0.0</td>\n",
       "      <td>0.0</td>\n",
       "      <td>0.0</td>\n",
       "      <td>1</td>\n",
       "      <td>0.0</td>\n",
       "      <td>0.0</td>\n",
       "      <td>0.0</td>\n",
       "      <td>3</td>\n",
       "      <td>3</td>\n",
       "      <td>44</td>\n",
       "      <td>20180312</td>\n",
       "      <td>F</td>\n",
       "      <td>76000.0</td>\n",
       "      <td>1</td>\n",
       "      <td>0</td>\n",
       "      <td>0</td>\n",
       "      <td>0</td>\n",
       "      <td>30</td>\n",
       "      <td>0</td>\n",
       "      <td>0</td>\n",
       "      <td>0</td>\n",
       "      <td>0</td>\n",
       "      <td>0</td>\n",
       "      <td>0</td>\n",
       "      <td>0</td>\n",
       "      <td>0</td>\n",
       "      <td>0</td>\n",
       "      <td>0</td>\n",
       "      <td>0</td>\n",
       "      <td>0</td>\n",
       "      <td>0</td>\n",
       "      <td>0</td>\n",
       "      <td>0</td>\n",
       "      <td>0</td>\n",
       "      <td>0</td>\n",
       "      <td>0</td>\n",
       "      <td>1</td>\n",
       "      <td>0</td>\n",
       "    </tr>\n",
       "    <tr>\n",
       "      <th>4</th>\n",
       "      <td>166</td>\n",
       "      <td>0.0</td>\n",
       "      <td>134.0</td>\n",
       "      <td>0.0</td>\n",
       "      <td>0.0</td>\n",
       "      <td>0.0</td>\n",
       "      <td>0.0</td>\n",
       "      <td>1</td>\n",
       "      <td>0.0</td>\n",
       "      <td>0.0</td>\n",
       "      <td>0.0</td>\n",
       "      <td>2</td>\n",
       "      <td>2</td>\n",
       "      <td>62</td>\n",
       "      <td>20180629</td>\n",
       "      <td>F</td>\n",
       "      <td>40000.0</td>\n",
       "      <td>1</td>\n",
       "      <td>0</td>\n",
       "      <td>0</td>\n",
       "      <td>20</td>\n",
       "      <td>240</td>\n",
       "      <td>5</td>\n",
       "      <td>1</td>\n",
       "      <td>0</td>\n",
       "      <td>0</td>\n",
       "      <td>1</td>\n",
       "      <td>0</td>\n",
       "      <td>1</td>\n",
       "      <td>0</td>\n",
       "      <td>1</td>\n",
       "      <td>0</td>\n",
       "      <td>0</td>\n",
       "      <td>0</td>\n",
       "      <td>0</td>\n",
       "      <td>0</td>\n",
       "      <td>0</td>\n",
       "      <td>0</td>\n",
       "      <td>0</td>\n",
       "      <td>0</td>\n",
       "      <td>0</td>\n",
       "      <td>1</td>\n",
       "    </tr>\n",
       "  </tbody>\n",
       "</table>\n",
       "</div>"
      ],
      "text/plain": [
       "   index  day_num  per_id  ...  offer_id_9  offer_id_10  treatment\n",
       "0    112      0.0    93.0  ...           0            0          1\n",
       "1    113      0.0    93.0  ...           0            1          0\n",
       "2    114      0.0    94.0  ...           0            0          1\n",
       "3    115      0.0    94.0  ...           0            1          0\n",
       "4    166      0.0   134.0  ...           0            0          1\n",
       "\n",
       "[5 rows x 42 columns]"
      ]
     },
     "execution_count": 47,
     "metadata": {
      "tags": []
     },
     "output_type": "execute_result"
    }
   ],
   "source": [
    "target = []\n",
    "for index, row in train_data.iterrows():\n",
    "    if (row['offer_id'] != 10) & (row['has_profit'] == 1):\n",
    "        # TR group\n",
    "        target.append(0)\n",
    "    elif (['offer_id'] == 10) & (row['has_profit'] == 1):\n",
    "        # CR group\n",
    "        target.append(1)\n",
    "    elif (row['offer_id'] != 10) & (row['has_profit'] == 0):\n",
    "        # TN group\n",
    "        target.append(2)\n",
    "    else: #CN group\n",
    "        target.append(3)\n",
    "\n",
    "train_data['target'] = target\n",
    "train_data.head()"
   ]
  },
  {
   "cell_type": "code",
   "execution_count": 48,
   "metadata": {
    "colab": {
     "base_uri": "https://localhost:8080/",
     "height": 85
    },
    "colab_type": "code",
    "id": "UIChsjJVFwfH",
    "outputId": "d5aa3b82-9bdf-46d8-e519-ef5e61845d7b"
   },
   "outputs": [
    {
     "data": {
      "text/plain": [
       "3    7745\n",
       "2    4999\n",
       "0    2830\n",
       "Name: target, dtype: int64"
      ]
     },
     "execution_count": 48,
     "metadata": {
      "tags": []
     },
     "output_type": "execute_result"
    }
   ],
   "source": [
    "train, valid = sk.model_selection.train_test_split(train_data, test_size=0.2,random_state=42)\n",
    "\n",
    "abc = train_data['target']\n",
    "\n",
    "abc.value_counts()"
   ]
  },
  {
   "cell_type": "code",
   "execution_count": 0,
   "metadata": {
    "colab": {},
    "colab_type": "code",
    "id": "7l4nQE9Q48WZ"
   },
   "outputs": [],
   "source": [
    "#features = ['V1', 'V2', 'V3', 'V4', 'V5', 'V6', 'V7']\n",
    "features = ['day_num', 'per_id', 'age', 'became_member_on', 'income', 'gender_F', 'gender_M','gender_O']\n",
    "\n",
    "Y_train = train['target']\n",
    "X_train = train[features]\n",
    "\n",
    "Y_valid = valid['target']\n",
    "X_valid = valid[features]"
   ]
  },
  {
   "cell_type": "code",
   "execution_count": 50,
   "metadata": {
    "colab": {
     "base_uri": "https://localhost:8080/",
     "height": 85
    },
    "colab_type": "code",
    "id": "fWwHMOQhFwfK",
    "outputId": "736f73d2-225a-4ae3-bb07-65fd4251deac"
   },
   "outputs": [
    {
     "data": {
      "text/plain": [
       "3    6166\n",
       "2    4006\n",
       "0    2287\n",
       "Name: target, dtype: int64"
      ]
     },
     "execution_count": 50,
     "metadata": {
      "tags": []
     },
     "output_type": "execute_result"
    }
   ],
   "source": [
    "Y_train.value_counts()"
   ]
  },
  {
   "cell_type": "code",
   "execution_count": 51,
   "metadata": {
    "colab": {
     "base_uri": "https://localhost:8080/",
     "height": 207
    },
    "colab_type": "code",
    "id": "O6y9IfnoFwfM",
    "outputId": "812308ca-6c6a-4778-d846-bfa6970585fd"
   },
   "outputs": [
    {
     "name": "stderr",
     "output_type": "stream",
     "text": [
      "/usr/local/lib/python3.6/dist-packages/imblearn/utils/_validation.py:257: UserWarning: After over-sampling, the number of samples (33444) in class 0 will be larger than the number of samples in the majority class (class #3 -> 6166)\n",
      "  n_samples_majority))\n",
      "/usr/local/lib/python3.6/dist-packages/imblearn/utils/_validation.py:257: UserWarning: After over-sampling, the number of samples (33444) in class 2 will be larger than the number of samples in the majority class (class #3 -> 6166)\n",
      "  n_samples_majority))\n",
      "/usr/local/lib/python3.6/dist-packages/imblearn/utils/_validation.py:257: UserWarning: After over-sampling, the number of samples (33444) in class 3 will be larger than the number of samples in the majority class (class #3 -> 6166)\n",
      "  n_samples_majority))\n"
     ]
    },
    {
     "data": {
      "text/plain": [
       "3    33444\n",
       "2    33444\n",
       "0    33444\n",
       "dtype: int64"
      ]
     },
     "execution_count": 51,
     "metadata": {
      "tags": []
     },
     "output_type": "execute_result"
    }
   ],
   "source": [
    "# up sample with SMOTE\n",
    "sm = SMOTE({0:33444, 2:33444, 3:33444}, random_state=42)\n",
    "X_train_upsamp, Y_train_upsamp = sm.fit_sample(X_train, Y_train)\n",
    "    \n",
    "X_train_upsamp = pd.DataFrame(X_train_upsamp, columns=features)\n",
    "\n",
    "Y_train_upsamp = pd.Series(Y_train_upsamp)\n",
    "Y_train_upsamp.value_counts()"
   ]
  },
  {
   "cell_type": "code",
   "execution_count": 52,
   "metadata": {
    "colab": {
     "base_uri": "https://localhost:8080/",
     "height": 204
    },
    "colab_type": "code",
    "id": "wJIxk789FwfN",
    "outputId": "028a8bc8-93c4-4031-8238-0d64f46471ff"
   },
   "outputs": [
    {
     "data": {
      "text/html": [
       "<div>\n",
       "<style scoped>\n",
       "    .dataframe tbody tr th:only-of-type {\n",
       "        vertical-align: middle;\n",
       "    }\n",
       "\n",
       "    .dataframe tbody tr th {\n",
       "        vertical-align: top;\n",
       "    }\n",
       "\n",
       "    .dataframe thead th {\n",
       "        text-align: right;\n",
       "    }\n",
       "</style>\n",
       "<table border=\"1\" class=\"dataframe\">\n",
       "  <thead>\n",
       "    <tr style=\"text-align: right;\">\n",
       "      <th></th>\n",
       "      <th>day_num</th>\n",
       "      <th>per_id</th>\n",
       "      <th>age</th>\n",
       "      <th>became_member_on</th>\n",
       "      <th>income</th>\n",
       "      <th>gender_F</th>\n",
       "      <th>gender_M</th>\n",
       "      <th>gender_O</th>\n",
       "    </tr>\n",
       "  </thead>\n",
       "  <tbody>\n",
       "    <tr>\n",
       "      <th>0</th>\n",
       "      <td>10.0</td>\n",
       "      <td>13922.0</td>\n",
       "      <td>65.0</td>\n",
       "      <td>20171226.0</td>\n",
       "      <td>63000.0</td>\n",
       "      <td>1.0</td>\n",
       "      <td>0.0</td>\n",
       "      <td>0.0</td>\n",
       "    </tr>\n",
       "    <tr>\n",
       "      <th>1</th>\n",
       "      <td>13.0</td>\n",
       "      <td>10004.0</td>\n",
       "      <td>50.0</td>\n",
       "      <td>20150824.0</td>\n",
       "      <td>84000.0</td>\n",
       "      <td>1.0</td>\n",
       "      <td>0.0</td>\n",
       "      <td>0.0</td>\n",
       "    </tr>\n",
       "    <tr>\n",
       "      <th>2</th>\n",
       "      <td>17.0</td>\n",
       "      <td>1509.0</td>\n",
       "      <td>60.0</td>\n",
       "      <td>20160215.0</td>\n",
       "      <td>100000.0</td>\n",
       "      <td>1.0</td>\n",
       "      <td>0.0</td>\n",
       "      <td>0.0</td>\n",
       "    </tr>\n",
       "    <tr>\n",
       "      <th>3</th>\n",
       "      <td>17.0</td>\n",
       "      <td>9394.0</td>\n",
       "      <td>57.0</td>\n",
       "      <td>20150927.0</td>\n",
       "      <td>87000.0</td>\n",
       "      <td>1.0</td>\n",
       "      <td>0.0</td>\n",
       "      <td>0.0</td>\n",
       "    </tr>\n",
       "    <tr>\n",
       "      <th>4</th>\n",
       "      <td>21.0</td>\n",
       "      <td>14069.0</td>\n",
       "      <td>50.0</td>\n",
       "      <td>20160715.0</td>\n",
       "      <td>53000.0</td>\n",
       "      <td>1.0</td>\n",
       "      <td>0.0</td>\n",
       "      <td>0.0</td>\n",
       "    </tr>\n",
       "  </tbody>\n",
       "</table>\n",
       "</div>"
      ],
      "text/plain": [
       "   day_num   per_id   age  ...  gender_F  gender_M  gender_O\n",
       "0     10.0  13922.0  65.0  ...       1.0       0.0       0.0\n",
       "1     13.0  10004.0  50.0  ...       1.0       0.0       0.0\n",
       "2     17.0   1509.0  60.0  ...       1.0       0.0       0.0\n",
       "3     17.0   9394.0  57.0  ...       1.0       0.0       0.0\n",
       "4     21.0  14069.0  50.0  ...       1.0       0.0       0.0\n",
       "\n",
       "[5 rows x 8 columns]"
      ]
     },
     "execution_count": 52,
     "metadata": {
      "tags": []
     },
     "output_type": "execute_result"
    }
   ],
   "source": [
    "X_train_upsamp.head()"
   ]
  },
  {
   "cell_type": "code",
   "execution_count": 53,
   "metadata": {
    "colab": {
     "base_uri": "https://localhost:8080/",
     "height": 1000
    },
    "colab_type": "code",
    "id": "0u82ALCWFwfP",
    "outputId": "65eb5046-c974-4fb4-e875-b31013e3bf49"
   },
   "outputs": [
    {
     "name": "stdout",
     "output_type": "stream",
     "text": [
      "[0]\tvalidation_0-mlogloss:1.08849\tvalidation_1-mlogloss:1.09031\n",
      "Multiple eval metrics have been passed: 'validation_1-mlogloss' will be used for early stopping.\n",
      "\n",
      "Will train until validation_1-mlogloss hasn't improved in 30 rounds.\n",
      "[1]\tvalidation_0-mlogloss:1.07938\tvalidation_1-mlogloss:1.0828\n",
      "[2]\tvalidation_0-mlogloss:1.07186\tvalidation_1-mlogloss:1.07573\n",
      "[3]\tvalidation_0-mlogloss:1.0651\tvalidation_1-mlogloss:1.07004\n",
      "[4]\tvalidation_0-mlogloss:1.0595\tvalidation_1-mlogloss:1.06499\n",
      "[5]\tvalidation_0-mlogloss:1.0539\tvalidation_1-mlogloss:1.06134\n",
      "[6]\tvalidation_0-mlogloss:1.04927\tvalidation_1-mlogloss:1.05778\n",
      "[7]\tvalidation_0-mlogloss:1.04467\tvalidation_1-mlogloss:1.05436\n",
      "[8]\tvalidation_0-mlogloss:1.04076\tvalidation_1-mlogloss:1.05151\n",
      "[9]\tvalidation_0-mlogloss:1.03715\tvalidation_1-mlogloss:1.04923\n",
      "[10]\tvalidation_0-mlogloss:1.03352\tvalidation_1-mlogloss:1.04483\n",
      "[11]\tvalidation_0-mlogloss:1.03007\tvalidation_1-mlogloss:1.04291\n",
      "[12]\tvalidation_0-mlogloss:1.02683\tvalidation_1-mlogloss:1.04007\n",
      "[13]\tvalidation_0-mlogloss:1.02325\tvalidation_1-mlogloss:1.03624\n",
      "[14]\tvalidation_0-mlogloss:1.02017\tvalidation_1-mlogloss:1.03488\n",
      "[15]\tvalidation_0-mlogloss:1.01706\tvalidation_1-mlogloss:1.03123\n",
      "[16]\tvalidation_0-mlogloss:1.01376\tvalidation_1-mlogloss:1.03038\n",
      "[17]\tvalidation_0-mlogloss:1.01055\tvalidation_1-mlogloss:1.02705\n",
      "[18]\tvalidation_0-mlogloss:1.00781\tvalidation_1-mlogloss:1.02589\n",
      "[19]\tvalidation_0-mlogloss:1.00473\tvalidation_1-mlogloss:1.0231\n",
      "[20]\tvalidation_0-mlogloss:1.00222\tvalidation_1-mlogloss:1.02193\n",
      "[21]\tvalidation_0-mlogloss:0.999338\tvalidation_1-mlogloss:1.02084\n",
      "[22]\tvalidation_0-mlogloss:0.997004\tvalidation_1-mlogloss:1.01931\n",
      "[23]\tvalidation_0-mlogloss:0.994414\tvalidation_1-mlogloss:1.0183\n",
      "[24]\tvalidation_0-mlogloss:0.992326\tvalidation_1-mlogloss:1.01663\n",
      "[25]\tvalidation_0-mlogloss:0.990085\tvalidation_1-mlogloss:1.01606\n",
      "[26]\tvalidation_0-mlogloss:0.986792\tvalidation_1-mlogloss:1.0121\n",
      "[27]\tvalidation_0-mlogloss:0.984917\tvalidation_1-mlogloss:1.01099\n",
      "[28]\tvalidation_0-mlogloss:0.982686\tvalidation_1-mlogloss:1.00942\n",
      "[29]\tvalidation_0-mlogloss:0.980224\tvalidation_1-mlogloss:1.00912\n",
      "[30]\tvalidation_0-mlogloss:0.977526\tvalidation_1-mlogloss:1.00522\n",
      "[31]\tvalidation_0-mlogloss:0.975076\tvalidation_1-mlogloss:1.00463\n",
      "[32]\tvalidation_0-mlogloss:0.973551\tvalidation_1-mlogloss:1.00408\n",
      "[33]\tvalidation_0-mlogloss:0.97068\tvalidation_1-mlogloss:1.00124\n",
      "[34]\tvalidation_0-mlogloss:0.969167\tvalidation_1-mlogloss:1.00101\n",
      "[35]\tvalidation_0-mlogloss:0.967413\tvalidation_1-mlogloss:1.00144\n",
      "[36]\tvalidation_0-mlogloss:0.964868\tvalidation_1-mlogloss:0.999251\n",
      "[37]\tvalidation_0-mlogloss:0.963408\tvalidation_1-mlogloss:0.999491\n",
      "[38]\tvalidation_0-mlogloss:0.961159\tvalidation_1-mlogloss:0.996713\n",
      "[39]\tvalidation_0-mlogloss:0.959582\tvalidation_1-mlogloss:0.997035\n",
      "[40]\tvalidation_0-mlogloss:0.957909\tvalidation_1-mlogloss:0.995365\n",
      "[41]\tvalidation_0-mlogloss:0.956029\tvalidation_1-mlogloss:0.993943\n",
      "[42]\tvalidation_0-mlogloss:0.954822\tvalidation_1-mlogloss:0.993325\n",
      "[43]\tvalidation_0-mlogloss:0.953958\tvalidation_1-mlogloss:0.993382\n",
      "[44]\tvalidation_0-mlogloss:0.953165\tvalidation_1-mlogloss:0.993345\n",
      "[45]\tvalidation_0-mlogloss:0.95193\tvalidation_1-mlogloss:0.992391\n",
      "[46]\tvalidation_0-mlogloss:0.950274\tvalidation_1-mlogloss:0.992574\n",
      "[47]\tvalidation_0-mlogloss:0.948632\tvalidation_1-mlogloss:0.992995\n",
      "[48]\tvalidation_0-mlogloss:0.947857\tvalidation_1-mlogloss:0.992784\n",
      "[49]\tvalidation_0-mlogloss:0.946506\tvalidation_1-mlogloss:0.992998\n",
      "[50]\tvalidation_0-mlogloss:0.944992\tvalidation_1-mlogloss:0.99399\n",
      "[51]\tvalidation_0-mlogloss:0.943429\tvalidation_1-mlogloss:0.993254\n",
      "[52]\tvalidation_0-mlogloss:0.942523\tvalidation_1-mlogloss:0.993484\n",
      "[53]\tvalidation_0-mlogloss:0.941189\tvalidation_1-mlogloss:0.992935\n",
      "[54]\tvalidation_0-mlogloss:0.940127\tvalidation_1-mlogloss:0.993548\n",
      "[55]\tvalidation_0-mlogloss:0.938539\tvalidation_1-mlogloss:0.992976\n",
      "[56]\tvalidation_0-mlogloss:0.937228\tvalidation_1-mlogloss:0.993603\n",
      "[57]\tvalidation_0-mlogloss:0.936346\tvalidation_1-mlogloss:0.994051\n",
      "[58]\tvalidation_0-mlogloss:0.935514\tvalidation_1-mlogloss:0.994438\n",
      "[59]\tvalidation_0-mlogloss:0.934263\tvalidation_1-mlogloss:0.993866\n",
      "[60]\tvalidation_0-mlogloss:0.933738\tvalidation_1-mlogloss:0.993968\n",
      "[61]\tvalidation_0-mlogloss:0.931623\tvalidation_1-mlogloss:0.993619\n",
      "[62]\tvalidation_0-mlogloss:0.930681\tvalidation_1-mlogloss:0.994443\n",
      "[63]\tvalidation_0-mlogloss:0.929614\tvalidation_1-mlogloss:0.995017\n",
      "[64]\tvalidation_0-mlogloss:0.926853\tvalidation_1-mlogloss:0.995969\n",
      "[65]\tvalidation_0-mlogloss:0.925108\tvalidation_1-mlogloss:0.995648\n",
      "[66]\tvalidation_0-mlogloss:0.924096\tvalidation_1-mlogloss:0.995946\n",
      "[67]\tvalidation_0-mlogloss:0.922944\tvalidation_1-mlogloss:0.996473\n",
      "[68]\tvalidation_0-mlogloss:0.92138\tvalidation_1-mlogloss:0.995755\n",
      "[69]\tvalidation_0-mlogloss:0.919902\tvalidation_1-mlogloss:0.996581\n",
      "[70]\tvalidation_0-mlogloss:0.91922\tvalidation_1-mlogloss:0.997132\n",
      "[71]\tvalidation_0-mlogloss:0.917893\tvalidation_1-mlogloss:0.997334\n",
      "[72]\tvalidation_0-mlogloss:0.9165\tvalidation_1-mlogloss:0.997069\n",
      "[73]\tvalidation_0-mlogloss:0.91568\tvalidation_1-mlogloss:0.997716\n",
      "[74]\tvalidation_0-mlogloss:0.915154\tvalidation_1-mlogloss:0.998162\n",
      "[75]\tvalidation_0-mlogloss:0.914173\tvalidation_1-mlogloss:0.998664\n",
      "Stopping. Best iteration:\n",
      "[45]\tvalidation_0-mlogloss:0.95193\tvalidation_1-mlogloss:0.992391\n",
      "\n"
     ]
    },
    {
     "data": {
      "text/plain": [
       "XGBClassifier(base_score=0.5, booster='gbtree', colsample_bylevel=1,\n",
       "              colsample_bynode=1, colsample_bytree=1, gamma=0.1,\n",
       "              learning_rate=0.1, max_delta_step=0, max_depth=7,\n",
       "              min_child_weight=5, missing=None, n_estimators=100, n_jobs=1,\n",
       "              nthread=None, num_class=4, objective='multi:softprob',\n",
       "              random_state=0, reg_alpha=0, reg_lambda=1, scale_pos_weight=1,\n",
       "              seed=42, silent=True, subsample=1, verbosity=1)"
      ]
     },
     "execution_count": 53,
     "metadata": {
      "tags": []
     },
     "output_type": "execute_result"
    }
   ],
   "source": [
    "eval_set = [(X_train_upsamp, Y_train_upsamp), (X_valid, Y_valid)]\n",
    "model = xgb.XGBClassifier(learning_rate = 0.1,\\\n",
    "                          num_class=4,\\\n",
    "                                  max_depth = 7,\\\n",
    "                                  min_child_weight = 5,\\\n",
    "                                  objective = 'multi:softmax',\\\n",
    "                                  seed = 42,\\\n",
    "                                  gamma = 0.1,\\\n",
    "                                  silent = True)\n",
    "model.fit(X_train_upsamp, Y_train_upsamp, eval_set=eval_set,\\\n",
    "                    eval_metric=\"mlogloss\", verbose=True, early_stopping_rounds=30)"
   ]
  },
  {
   "cell_type": "code",
   "execution_count": 54,
   "metadata": {
    "colab": {
     "base_uri": "https://localhost:8080/",
     "height": 68
    },
    "colab_type": "code",
    "id": "8TgrfqeWFwfQ",
    "outputId": "355d4110-7e00-4aba-8f3a-bf4e6e47a186"
   },
   "outputs": [
    {
     "data": {
      "text/plain": [
       "array([[241,  86, 216],\n",
       "       [  2, 539, 452],\n",
       "       [324, 882, 373]])"
      ]
     },
     "execution_count": 54,
     "metadata": {
      "tags": []
     },
     "output_type": "execute_result"
    }
   ],
   "source": [
    "# confusion marix for thge validation set\n",
    "# Note:\n",
    "# TR: treatment and respond group (received promotion and made purchase)\n",
    "# CR: control and respond group (did not receive promotion but made purchase)\n",
    "# TN: treatment and no respond group (received promotion but did not made purchase)\n",
    "# CR: control and no respond group (did not receive promotion and made no purchase)\n",
    "valid_pred = model.predict(X_valid, ntree_limit=model.best_ntree_limit)\n",
    "cm = sk.metrics.confusion_matrix(Y_valid, valid_pred)\n",
    "\n",
    "cm"
   ]
  },
  {
   "cell_type": "code",
   "execution_count": 0,
   "metadata": {
    "colab": {},
    "colab_type": "code",
    "id": "uCt_uM3zFwfZ"
   },
   "outputs": [],
   "source": [
    "def promotion_strategy(df):\n",
    "\n",
    "    test = df\n",
    "    \n",
    "    pred = model.predict(test, ntree_limit=model.best_ntree_limit)\n",
    "    \n",
    "    promotion = []\n",
    "    \n",
    "    for pred in pred:\n",
    "        if pred == 0:\n",
    "            promotion.append('Yes')\n",
    "        else:\n",
    "            promotion.append('No')\n",
    "    \n",
    "    promotion = np.array(promotion)\n",
    "    \n",
    "    return promotion"
   ]
  },
  {
   "cell_type": "code",
   "execution_count": 56,
   "metadata": {
    "colab": {
     "base_uri": "https://localhost:8080/",
     "height": 102
    },
    "colab_type": "code",
    "id": "dVse9ADOFwfb",
    "outputId": "66b6a7b2-1a4a-4fdc-d702-fddee87493af"
   },
   "outputs": [
    {
     "name": "stdout",
     "output_type": "stream",
     "text": [
      "Irr with this strategy is 0.9146.\n",
      "\n",
      "Nir with this strategy is 2123.55.\n",
      "\n"
     ]
    },
    {
     "data": {
      "text/plain": [
       "(0.9146090534979424, 2123.55)"
      ]
     },
     "execution_count": 56,
     "metadata": {
      "tags": []
     },
     "output_type": "execute_result"
    }
   ],
   "source": [
    "# find out irr and nlr on our validation set\n",
    "valid_results(promotion_strategy, valid)"
   ]
  },
  {
   "cell_type": "code",
   "execution_count": 0,
   "metadata": {
    "colab": {},
    "colab_type": "code",
    "id": "MkEUqPKYFwfe"
   },
   "outputs": [],
   "source": [
    "# This will test your results, and provide you back some information \n",
    "# on how well your promotion_strategy will work in practice\n",
    "\n",
    "#test_results(promotion_strategy)"
   ]
  },
  {
   "cell_type": "markdown",
   "metadata": {
    "colab_type": "text",
    "id": "PoK1Pk5hSr61"
   },
   "source": [
    "Thus, model 3 gives the best strategy and will be used for evaluating our individual offers to predict the best irr and nir for the Test_case customers"
   ]
  },
  {
   "cell_type": "markdown",
   "metadata": {
    "colab_type": "text",
    "id": "2NVggUHoTTbK"
   },
   "source": [
    "This approach is first suggested by Victor Lo in the [presentation](https://www.slideshare.net/odsc/victor-lomachinelearningpresentation)."
   ]
  },
  {
   "cell_type": "code",
   "execution_count": 0,
   "metadata": {
    "colab": {},
    "colab_type": "code",
    "id": "JvJ3OSskTddt"
   },
   "outputs": [],
   "source": []
  }
 ],
 "metadata": {
  "colab": {
   "collapsed_sections": [
    "hrERVVhBFweE",
    "FdRYQ6ijFwev",
    "0EpP-JfSFwfB"
   ],
   "name": "Starbucks_Uplift_Models_Comparison.ipynb",
   "provenance": [],
   "version": "0.3.2"
  },
  "kernelspec": {
   "display_name": "Python 3",
   "language": "python",
   "name": "python3"
  },
  "language_info": {
   "codemirror_mode": {
    "name": "ipython",
    "version": 3
   },
   "file_extension": ".py",
   "mimetype": "text/x-python",
   "name": "python",
   "nbconvert_exporter": "python",
   "pygments_lexer": "ipython3",
   "version": "3.7.1"
  }
 },
 "nbformat": 4,
 "nbformat_minor": 1
}
